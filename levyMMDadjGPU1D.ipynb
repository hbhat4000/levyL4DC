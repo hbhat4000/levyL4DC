{
 "cells": [
  {
   "cell_type": "code",
   "execution_count": 56,
   "id": "d7252269-b4fb-4553-a6a2-a68935577d8f",
   "metadata": {},
   "outputs": [
    {
     "name": "stdout",
     "output_type": "stream",
     "text": [
      "(4001, 100)\n",
      "(41, 100)\n"
     ]
    }
   ],
   "source": [
    "import os\n",
    "os.environ[\"CUDA_VISIBLE_DEVICES\"]=\"1\"\n",
    "\n",
    "from numba import jit, njit, cuda\n",
    "import numpy as np\n",
    "\n",
    "import matplotlib\n",
    "%matplotlib inline\n",
    "import matplotlib.pyplot as plt\n",
    "\n",
    "import scipy.signal as ss\n",
    "import scipy.integrate as si\n",
    "import scipy.optimize\n",
    "\n",
    "import time\n",
    "\n",
    "mctrajlist = []\n",
    "for i in range(100):\n",
    "    mctrajlist.append(np.genfromtxt('./mcsinnew/mcsinnew' + str(i+1) + '.csv', delimiter=','))\n",
    "    # mctrajlist.append(np.genfromtxt('/pscratch/sd/h/hbhat512/mcdblwell1d/mcdblwell1d' + str(i+1) + '.csv', delimiter=','))\n",
    "\n",
    "mctraj = np.stack(mctrajlist, 1)\n",
    "print(mctraj.shape)\n",
    "\n",
    "dilfac = 100\n",
    "mctraj = mctraj[::dilfac,:]\n",
    "#plt.plot(mctraj)\n",
    "#plt.show()\n",
    "numtraj = mctraj.shape[1]\n",
    "lentraj = mctraj.shape[0]\n",
    "print(mctraj.shape)"
   ]
  },
  {
   "cell_type": "code",
   "execution_count": 93,
   "id": "f92486ed-c64a-4d4b-a372-22d536796b1c",
   "metadata": {},
   "outputs": [
    {
     "name": "stdout",
     "output_type": "stream",
     "text": [
      "(2049, 40)\n",
      "(2049, 40)\n"
     ]
    }
   ],
   "source": [
    "# time step of the data\n",
    "deltat = 0.001*dilfac\n",
    "\n",
    "# crucial parameter that sets internal time step\n",
    "numsteps = dilfac\n",
    "h = deltat/numsteps\n",
    "\n",
    "# constant diffusion\n",
    "g = 0.25\n",
    "\n",
    "# levy alpha parameter\n",
    "alpha = 1.0\n",
    "\n",
    "# take L = 2\n",
    "bigL = 2\n",
    "\n",
    "# set up drift f(x) = sin(x)\n",
    "bigJ = 4\n",
    "modes = np.arange(-bigJ,bigJ+1)/bigL\n",
    "\n",
    "# truetheta = np.zeros((2*bigJ+1), dtype=np.complex128)\n",
    "# for j in range(-bigJ, bigJ+1):\n",
    "#     if j != 0:\n",
    "#         truetheta[j] = -2j*(-1)**j*(-24 + j**2 * (-1 + 4*np.pi**2))/j**3\n",
    "\n",
    "truetheta = np.zeros((2*bigJ+1), dtype=np.complex128)\n",
    "truetheta[bigJ+bigL] = -0.5j\n",
    "truetheta[bigJ-bigL] = 0.5j\n",
    "\n",
    "# set n2, number of points to the left of the origin\n",
    "n2 = 1024\n",
    "npts = 2*n2 + 1\n",
    "\n",
    "# take n_L = 2\n",
    "nL = 8\n",
    "ds = 1.0/(bigL*nL)\n",
    "uvec = np.arange(-n2,n2+1)*ds\n",
    "umin = np.amin(uvec)\n",
    "umax = np.amax(uvec)\n",
    "\n",
    "# initial char fun\n",
    "psi0 = np.sum(np.exp(1j*np.einsum('i,jk->ijk',uvec,mctraj[:-1,:])),2)/numtraj\n",
    "print(psi0.shape)\n",
    "\n",
    "# target char fun\n",
    "psitarget = np.sum(np.exp(1j*np.einsum('i,jk->ijk',uvec,mctraj[1:,:])),2)/numtraj\n",
    "print(psitarget.shape)\n",
    "\n",
    "# need this guy to propagate\n",
    "diagfac = np.exp(-h*np.abs(uvec*g)**alpha)"
   ]
  },
  {
   "cell_type": "code",
   "execution_count": 60,
   "id": "40580c02-f9bf-4480-8fee-075a1ee35152",
   "metadata": {},
   "outputs": [
    {
     "name": "stdout",
     "output_type": "stream",
     "text": [
      "0.0625\n"
     ]
    }
   ],
   "source": [
    "print(ds)"
   ]
  },
  {
   "cell_type": "code",
   "execution_count": 61,
   "id": "01862ac5-926b-4d65-91d1-0e340193578a",
   "metadata": {},
   "outputs": [],
   "source": [
    "@cuda.jit('void(complex128[:,:], complex128[:,:], complex128[:], complex128[:], float64[:])')\n",
    "def update(newpsi, oldpsi, dtheta, dtheta2, ddiagfac):\n",
    "    j, m = cuda.grid(2)\n",
    "    if j < npts and m < (lentraj-1):\n",
    "        term1 = 0.0\n",
    "        # j is the Python index, truej is the Math index\n",
    "        truej = j - n2\n",
    "        # jp is the Python index, \"truejp\"=jp-bigJ is the Math index\n",
    "        for jp in range(2*bigJ+1):\n",
    "            # suppose |truej + truejp*nL| <= n2, then 0 <= j + truejp*nL <= 2*n2,\n",
    "            # enabling us to access oldpsi at location \"j + truejp*nL\":\n",
    "            if abs(truej + (jp-bigJ)*nL) <= n2:\n",
    "                term1 += dtheta[jp]*oldpsi[j + (jp-bigJ)*nL,m]\n",
    "        newpsi[j,m] += 1j*(h*ds)*truej*term1\n",
    "        term2 = 0.0\n",
    "        # k is the Python index, \"truek\"=k-2*bigJ is the Math index\n",
    "        for k in range(4*bigJ+1):\n",
    "            # suppose |truej + truek*nL| <= n2, then 0 <= j + truek*nL <= 2*n2,\n",
    "            # enabling us to access oldpsi at location \"j + truek*nL\":\n",
    "            if abs(truej + (k-2*bigJ)*nL) <= n2:\n",
    "                term2 += dtheta2[k]*oldpsi[j + (k-2*bigJ)*nL,m]\n",
    "        newpsi[j,m] += -0.5*((h*ds)**2)*(truej**2)*term2\n",
    "        newpsi[j,m] *= ddiagfac[j]\n",
    "\n",
    "@cuda.jit\n",
    "def copyover(newpsi, oldpsi):\n",
    "    j, k = cuda.grid(2)\n",
    "    if j < npts and k < (lentraj-1):\n",
    "        oldpsi[j,k] = newpsi[j,k]\n"
   ]
  },
  {
   "cell_type": "code",
   "execution_count": 62,
   "id": "fe3a86a0-cb37-418d-a477-290cc7a0741a",
   "metadata": {},
   "outputs": [],
   "source": [
    "@cuda.jit('void(complex128[:,:], complex128[:,:], complex128[:], complex128[:], float64[:])')\n",
    "def updatev2(newpsi, oldpsi, dtheta, dtheta2, ddiagfac):\n",
    "    j, m = cuda.grid(2)\n",
    "    if j < npts and m < (lentraj-1):\n",
    "        newpsi[j,m] = oldpsi[j,m]\n",
    "        term1 = 0.0\n",
    "        # j is the Python index, truej is the Math index\n",
    "        truej = j - n2\n",
    "        # jp is the Python index, \"truejp\"=jp-bigJ is the Math index\n",
    "        for jp in range(2*bigJ+1):\n",
    "            # suppose |truej + truejp*nL| <= n2, then 0 <= j + truejp*nL <= 2*n2,\n",
    "            # enabling us to access oldpsi at location \"j + truejp*nL\":\n",
    "            if abs(truej + (jp-bigJ)*nL) <= n2:\n",
    "                term1 += dtheta[jp]*oldpsi[j + (jp-bigJ)*nL,m]\n",
    "        newpsi[j,m] += 1j*(h*ds)*truej*term1\n",
    "        term2 = 0.0\n",
    "        # k is the Python index, \"truek\"=k-2*bigJ is the Math index\n",
    "        for k in range(4*bigJ+1):\n",
    "            # suppose |truej + truek*nL| <= n2, then 0 <= j + truek*nL <= 2*n2,\n",
    "            # enabling us to access oldpsi at location \"j + truek*nL\":\n",
    "            if abs(truej + (k-2*bigJ)*nL) <= n2:\n",
    "                term2 += dtheta2[k]*oldpsi[j + (k-2*bigJ)*nL,m]\n",
    "        newpsi[j,m] += -0.5*((h*ds)**2)*(truej**2)*term2\n",
    "        newpsi[j,m] *= ddiagfac[j]\n"
   ]
  },
  {
   "cell_type": "code",
   "execution_count": 63,
   "id": "8a8610f2-bb81-49cf-90c6-533c3547520f",
   "metadata": {},
   "outputs": [],
   "source": [
    "@njit\n",
    "def newCPUupdate(theta, psi0):\n",
    "    psi1 = np.zeros(npts, dtype=np.complex128)\n",
    "    theta2 = np.zeros(4*bigJ+1, dtype=np.complex128)\n",
    "    for k in range(4*bigJ+1):\n",
    "        for j in range(2*bigJ+1):\n",
    "            if ((k-j) >= 0) and ((k-j) <= 2*bigJ):\n",
    "                theta2[k] += theta[j]*theta[k-j]\n",
    "    for j in range(npts):\n",
    "        term1 = 0.0\n",
    "        truej = j - n2\n",
    "        psi1[j] = psi0[j]\n",
    "        for jp in range(2*bigJ+1):\n",
    "            if abs(truej + (jp-bigJ)*nL) <= n2:\n",
    "                tmp = psi0[j + (jp-bigJ)*nL]\n",
    "                term1 += theta[jp]*tmp\n",
    "        \n",
    "        term2 = 0.0\n",
    "        for k in range(4*bigJ+1):\n",
    "            if abs(truej + (k-2*bigJ)*nL) <= n2:\n",
    "                tmp = psi0[j + (k-2*bigJ)*nL]\n",
    "                term2 += theta2[k]*tmp\n",
    "        \n",
    "        psi1[j] += 1j*(h*ds)*term1*truej\n",
    "        psi1[j] += -0.5*((h*ds)**2)*term2*truej**2\n",
    "        psi1[j] *= diagfac[j]\n",
    "    return psi1\n"
   ]
  },
  {
   "cell_type": "code",
   "execution_count": 64,
   "id": "bc5e34bf-c7d7-4477-b1bd-fd9442039ef3",
   "metadata": {},
   "outputs": [],
   "source": [
    "# propagate for 5 steps\n",
    "# see if you can get derivative of this loss w.r.t. theta!\n",
    "@njit\n",
    "def MMDloss(theta):\n",
    "    loss = 0.0\n",
    "    ntraj = psi0.shape[1]\n",
    "    for traj in range(ntraj):\n",
    "        psicur = np.copy(psi0[:,traj])\n",
    "        for j in range(numsteps):\n",
    "            psicur = newCPUupdate(theta, psicur)\n",
    "        loss += 0.5*np.sum(np.square(np.abs(psicur - psitarget[:,traj])))\n",
    "    return loss/ntraj"
   ]
  },
  {
   "cell_type": "code",
   "execution_count": 65,
   "id": "311a8b41-8d05-4af8-9d3b-f0c2ffe7ceb1",
   "metadata": {},
   "outputs": [],
   "source": [
    "# MMDloss(truetheta)"
   ]
  },
  {
   "cell_type": "code",
   "execution_count": 66,
   "id": "a9cdee21-4812-4b93-8242-07760e2802c5",
   "metadata": {},
   "outputs": [],
   "source": [
    "ddiagfac = cuda.to_device(diagfac)\n",
    "\n",
    "def MMDlossGPU(theta):\n",
    "    theta2 = ss.convolve(theta, theta)\n",
    "    dtheta = cuda.to_device(theta)\n",
    "    dtheta2 = cuda.to_device(theta2)\n",
    "    \n",
    "    # do the entire trajectory at once\n",
    "    psi0 = np.sum(np.exp(1j*np.einsum('i,jk->ijk',uvec,mctraj[:-1,:])),2)/numtraj\n",
    "    doldpsi = cuda.to_device(psi0)\n",
    "    dnewpsi = cuda.to_device(psi0)\n",
    "\n",
    "    threadsperblock = (8,10) # try 8, 10, 10\n",
    "    blockspergrid_x = int(np.ceil(psi0.shape[0] / threadsperblock[0]))\n",
    "    blockspergrid_y = int(np.ceil(psi0.shape[1] / threadsperblock[1]))\n",
    "    blockspergrid = (blockspergrid_x, blockspergrid_y)\n",
    "    \n",
    "    for k in range(numsteps):\n",
    "        update[blockspergrid, threadsperblock](dnewpsi, doldpsi, dtheta, dtheta2, ddiagfac)\n",
    "        copyover[blockspergrid, threadsperblock](dnewpsi, doldpsi)\n",
    "    \n",
    "    psifinal = dnewpsi.copy_to_host()\n",
    "    psitarget = np.sum(np.exp(1j*np.einsum('i,jk->ijk',uvec,mctraj[1:,:])),2)/numtraj\n",
    "    \n",
    "    return 0.5*np.sum(np.square(np.abs(psifinal - psitarget)))/(lentraj-1)"
   ]
  },
  {
   "cell_type": "code",
   "execution_count": 67,
   "id": "4e895e9c-88bc-4242-b179-1f0c277c9b44",
   "metadata": {},
   "outputs": [],
   "source": [
    "# MMDlossGPU(truetheta)"
   ]
  },
  {
   "cell_type": "code",
   "execution_count": 68,
   "id": "c21aac6f-8e28-4123-92a5-0109a2f19e89",
   "metadata": {},
   "outputs": [],
   "source": [
    "@cuda.jit('void(complex128[:,:,:], complex128[:,:], complex128[:], float64[:])')\n",
    "def GPUderivupdate(psi1, psi0, theta, diagfac):\n",
    "    j, m = cuda.grid(2)\n",
    "    if j < npts and m < (lentraj-1):\n",
    "        truej = j - n2\n",
    "        for r in range(2*bigJ+1):\n",
    "            psi1[j,r,m] = 0.0\n",
    "            truer = r - bigJ\n",
    "            if abs(truej + truer*nL) <= n2:\n",
    "                tmp = psi0[j + truer*nL,m]\n",
    "                psi1[j,r,m] += 1j*(h*ds)*truej*diagfac[j]*tmp\n",
    "\n",
    "            for k in range(4*bigJ+1):\n",
    "                truek = k - 2*bigJ\n",
    "                if abs(truek-truer) <= bigJ:\n",
    "                    if abs(truej + truek*nL) <= n2:\n",
    "                        tmp = psi0[j + truek*nL,m]\n",
    "                        term2 = theta[truek-truer+bigJ]\n",
    "                        psi1[j,r,m] += -((h*ds)**2)*(truej**2)*term2*tmp*diagfac[j]\n",
    "    \n",
    "# let us assume that oldlamb is of size (npts, npts)\n",
    "# we need to compute newlamb of the same size\n",
    "\n",
    "@cuda.jit('void(complex128[:,:], complex128[:,:], complex128[:], complex128[:], float64[:])')\n",
    "def GPUlambda(newlamb, oldlamb, theta, theta2, diagfac):\n",
    "    l, m = cuda.grid(2)\n",
    "    if l < npts and m < (lentraj-1):\n",
    "        newlamb[l,m] = oldlamb[l,m]*diagfac[l]\n",
    "        truel = l - n2\n",
    "        for k in range(2*bigJ):\n",
    "            truek = k - bigJ\n",
    "            ind = truel - truek*nL\n",
    "            if abs(ind)<=n2:\n",
    "                dd = diagfac[ind+n2]\n",
    "                newlamb[l,m] += dd*1j*(h*ds)*oldlamb[ind+n2,m]*ind*theta[k]\n",
    "        for k in range(4*bigJ):\n",
    "            truek = k - 2*bigJ\n",
    "            ind = truel - truek*nL\n",
    "            if abs(ind)<=n2:\n",
    "                term2 = theta2[k]\n",
    "                dd = diagfac[ind+n2]\n",
    "                newlamb[l,m] -= dd*0.5*(h*ds)**2*oldlamb[ind+n2,m]*term2*ind**2\n",
    "\n",
    "# adjoint method\n",
    "def MMDadjGPU(theta):\n",
    "    theta2 = ss.convolve(theta, theta)\n",
    "    dtheta = cuda.to_device(theta)\n",
    "    dtheta2 = cuda.to_device(theta2)\n",
    "    \n",
    "    # do the entire trajectory at once\n",
    "    # everybody\n",
    "    psimat = np.zeros((numsteps+1, npts, lentraj-1), dtype=np.complex128)\n",
    "    psimat[0,:,:] = np.sum(np.exp(1j*np.einsum('i,jk->ijk',uvec,mctraj[:-1,:])),2)/numtraj\n",
    "    dpsimat = cuda.to_device(psimat)\n",
    "\n",
    "    threadsperblock = (8,10) # try 8, 10, 10\n",
    "    blockspergrid_x = int(np.ceil(psi0.shape[0] / threadsperblock[0]))\n",
    "    blockspergrid_y = int(np.ceil(psi0.shape[1] / threadsperblock[1]))\n",
    "    blockspergrid = (blockspergrid_x, blockspergrid_y)\n",
    "    \n",
    "    for k in range(numsteps):\n",
    "        updatev2[blockspergrid, threadsperblock](dpsimat[k+1,:,:], dpsimat[k,:,:], dtheta, dtheta2, ddiagfac)\n",
    "    \n",
    "    resid = dpsimat[-1,:,:].copy_to_host() - psitarget\n",
    "    loss = 0.5*np.sum(np.square(np.abs(resid)))/(lentraj-1)\n",
    "    # everybody\n",
    "    lambmat = np.zeros((numsteps+1, npts, lentraj-1), dtype=np.complex128)\n",
    "    lambmat[numsteps,:,:] = resid\n",
    "    dlambmat = cuda.to_device(lambmat)\n",
    "    \n",
    "    for j in range(numsteps,0,-1):\n",
    "        GPUlambda[blockspergrid, threadsperblock](dlambmat[j-1,:,:], dlambmat[j,:,:], dtheta, dtheta2, ddiagfac)\n",
    "    \n",
    "    # now form the derivative\n",
    "    lambmatconj = dlambmat.copy_to_host().conj()\n",
    "    derivmat = np.zeros(2*bigJ+1, dtype=np.complex128)\n",
    "    ddu = cuda.to_device(np.zeros((npts, 2*bigJ+1, lentraj-1), dtype=np.complex128))\n",
    "    for j in range(numsteps):\n",
    "        GPUderivupdate[blockspergrid, threadsperblock](ddu, dpsimat[j,:,:], dtheta, ddiagfac)\n",
    "        du = ddu.copy_to_host()\n",
    "        derivmat += np.einsum('ik,ijk->j',lambmatconj[j+1,:,:],du)/(lentraj-1)\n",
    "        \n",
    "    return loss, derivmat"
   ]
  },
  {
   "cell_type": "code",
   "execution_count": 69,
   "id": "2a7b3abc-1bdd-4368-b128-4d9be3df17b1",
   "metadata": {},
   "outputs": [],
   "source": [
    "@njit\n",
    "def derivupdate(theta, psi0):\n",
    "    psi1 = np.zeros((npts,2*bigJ+1), dtype=np.complex128)\n",
    "    for j in range(npts):\n",
    "        truej = j - n2\n",
    "        for r in range(2*bigJ+1):\n",
    "            truer = r - bigJ\n",
    "            if abs(truej + truer*nL) <= n2:\n",
    "                tmp = psi0[j + truer*nL]\n",
    "                psi1[j,r] += 1j*(h*ds)*truej*diagfac[j]*tmp\n",
    "\n",
    "            for k in range(4*bigJ+1):\n",
    "                truek = k - 2*bigJ\n",
    "                if abs(truek-truer) <= bigJ:\n",
    "                    if abs(truej + truek*nL) <= n2:\n",
    "                        tmp = psi0[j + truek*nL]\n",
    "                        term2 = theta[truek-truer+bigJ]\n",
    "                        psi1[j,r] += -((h*ds)**2)*(truej**2)*term2*tmp*diagfac[j]\n",
    "    return psi1\n",
    "    \n",
    "# let us assume that oldlamb is of size (npts, npts)\n",
    "# we need to compute newlamb of the same size\n",
    "\n",
    "@njit\n",
    "def CPUlambda(theta, oldlamb):\n",
    "    newlamb = np.zeros(npts, dtype=np.complex128)\n",
    "    theta2 = np.zeros(4*bigJ+1, dtype=np.complex128)\n",
    "    for k in range(4*bigJ+1):\n",
    "        for j in range(2*bigJ+1):\n",
    "            if ((k-j) >= 0) and ((k-j) <= 2*bigJ):\n",
    "                theta2[k] += theta[j]*theta[k-j]\n",
    "    for l in range(npts):\n",
    "        newlamb[l] = oldlamb[l]*diagfac[l]\n",
    "        truel = l - n2\n",
    "        for k in range(2*bigJ):\n",
    "            truek = k - bigJ\n",
    "            ind = truel - truek*nL\n",
    "            if abs(ind)<=n2:\n",
    "                dd = diagfac[ind+n2]\n",
    "                newlamb[l] += dd*1j*(h*ds)*oldlamb[ind+n2]*ind*theta[k]\n",
    "        for k in range(4*bigJ):\n",
    "            truek = k - 2*bigJ\n",
    "            ind = truel - truek*nL\n",
    "            if abs(ind)<=n2:\n",
    "                term2 = theta2[k]\n",
    "                dd = diagfac[ind+n2]\n",
    "                newlamb[l] -= dd*0.5*(h*ds)**2*oldlamb[ind+n2]*term2*ind**2\n",
    "    return newlamb\n",
    "\n",
    "# adjoint method\n",
    "@njit\n",
    "def MMDadj(theta):\n",
    "    ntraj = psi0.shape[1]\n",
    "    loss = 0.0\n",
    "    derivmat = np.zeros(2*bigJ+1, dtype=np.complex128)\n",
    "    for traj in range(ntraj):\n",
    "        # forward prop\n",
    "        psimat = np.zeros((numsteps+1, npts), dtype=np.complex128)\n",
    "        psimat[0, :] = psi0[:,traj]\n",
    "        for j in range(numsteps):\n",
    "            psimat[j+1, :] = newCPUupdate(theta, psimat[j, :])\n",
    "\n",
    "        resid = psimat[-1,:] - psitarget[:,traj]\n",
    "        loss += 0.5*np.sum(np.square(np.abs(resid)))/ntraj\n",
    "        # reverse prop\n",
    "        lambmat = np.zeros((numsteps+1, npts), dtype=np.complex128)\n",
    "        lambmat[numsteps, :] = resid\n",
    "        for j in range(numsteps,0,-1):\n",
    "            lambmat[j-1, :] = CPUlambda(theta, lambmat[j, :])\n",
    "        # now form the derivative\n",
    "        for j in range(numsteps):\n",
    "            du = derivupdate(theta, psimat[j,:])\n",
    "            derivmat += (lambmat[j+1,:].conj() @ du)/ntraj\n",
    "    return loss, derivmat"
   ]
  },
  {
   "cell_type": "code",
   "execution_count": 70,
   "id": "0eb5544c-3fee-477b-8237-4dc5c8174dba",
   "metadata": {},
   "outputs": [],
   "source": [
    "# start = time.time()\n",
    "# cpuloss, cpuderivmat = MMDadj(truetheta)\n",
    "# end = time.time()\n",
    "# print(end-start)"
   ]
  },
  {
   "cell_type": "code",
   "execution_count": 71,
   "id": "d5ea1f84-27d5-45d4-bc37-59deb7382f16",
   "metadata": {},
   "outputs": [],
   "source": [
    "# start = time.time()\n",
    "# gpuloss, gpuderivmat = MMDadjGPU(truetheta)\n",
    "# end = time.time()\n",
    "# print(end-start)"
   ]
  },
  {
   "cell_type": "code",
   "execution_count": 72,
   "id": "46106c9a-072e-424e-8de8-1042994e8438",
   "metadata": {},
   "outputs": [],
   "source": [
    "# # ii = 99\n",
    "# print(np.abs(cpuloss - gpuloss))\n",
    "# print(np.linalg.norm(cpuderivmat-gpuderivmat))"
   ]
  },
  {
   "cell_type": "code",
   "execution_count": 73,
   "id": "be04efc0-958c-4398-aac8-02a2308ca200",
   "metadata": {},
   "outputs": [],
   "source": [
    "def objgrad(thetaR):\n",
    "    theta = thetaR[:(2*bigJ+1)] + 1j*thetaR[(2*bigJ+1):]\n",
    "    obj, grad = MMDadjGPU(theta)\n",
    "    return obj, np.concatenate([np.real(grad), -np.imag(grad)])"
   ]
  },
  {
   "cell_type": "code",
   "execution_count": 36,
   "id": "5715b406-da16-4403-8630-b0589765f83a",
   "metadata": {},
   "outputs": [
    {
     "name": "stdout",
     "output_type": "stream",
     "text": [
      "| niter |f evals|CG iter|  obj func   |tr radius |   opt    |  c viol  |\n",
      "|-------|-------|-------|-------------|----------|----------|----------|\n",
      "|   1   |   1   |   0   | +8.3093e+00 | 1.00e+00 | 3.78e+00 | 0.00e+00 |\n",
      "|   2   |   2   |   1   | +8.3093e+00 | 2.34e-01 | 3.78e+00 | 0.00e+00 |\n",
      "|   3   |   3   |   3   | +8.3093e+00 | 2.34e-02 | 3.78e+00 | 0.00e+00 |\n",
      "|   4   |   4   |   4   | +8.3093e+00 | 1.17e-02 | 3.78e+00 | 0.00e+00 |\n",
      "|   5   |   5   |   5   | +8.2213e+00 | 2.34e-02 | 3.54e+00 | 0.00e+00 |\n",
      "|   6   |   6   |   7   | +7.9617e+00 | 1.64e-01 | 3.09e+00 | 0.00e+00 |\n",
      "|   7   |   7   |  10   | +7.8304e+00 | 1.64e-01 | 2.63e+00 | 0.00e+00 |\n",
      "|   8   |   8   |  14   | +7.4744e+00 | 4.80e-01 | 1.74e+00 | 0.00e+00 |\n",
      "|   9   |   9   |  18   | +7.4744e+00 | 4.80e-02 | 1.74e+00 | 0.00e+00 |\n",
      "|  10   |  10   |  21   | +7.4744e+00 | 2.40e-02 | 1.74e+00 | 0.00e+00 |\n",
      "|  11   |  11   |  23   | +7.4311e+00 | 4.80e-02 | 1.01e+00 | 0.00e+00 |\n",
      "|  12   |  12   |  27   | +7.4009e+00 | 1.35e-01 | 8.89e-01 | 0.00e+00 |\n",
      "|  13   |  13   |  32   | +7.3793e+00 | 1.95e-01 | 5.43e-01 | 0.00e+00 |\n",
      "|  14   |  14   |  38   | +7.3714e+00 | 1.95e-01 | 4.31e-01 | 0.00e+00 |\n",
      "|  15   |  15   |  42   | +7.3686e+00 | 1.95e-01 | 2.68e-01 | 0.00e+00 |\n",
      "|  16   |  16   |  47   | +7.3660e+00 | 1.95e-01 | 3.69e-01 | 0.00e+00 |\n",
      "|  17   |  17   |  53   | +7.3589e+00 | 1.95e-01 | 5.44e-01 | 0.00e+00 |\n",
      "|  18   |  18   |  60   | +7.3346e+00 | 5.33e-01 | 8.79e-01 | 0.00e+00 |\n",
      "|  19   |  19   |  69   | +7.2621e+00 | 2.68e+00 | 1.90e+00 | 0.00e+00 |\n",
      "|  20   |  20   |  79   | +7.2454e+00 | 2.68e+00 | 8.61e-01 | 0.00e+00 |\n",
      "|  21   |  21   |  88   | +7.2028e+00 | 2.68e+00 | 6.32e-01 | 0.00e+00 |\n",
      "|  22   |  22   |  97   | +7.1936e+00 | 2.68e+00 | 4.58e-01 | 0.00e+00 |\n",
      "|  23   |  23   |  102  | +7.1828e+00 | 2.68e+00 | 3.98e-01 | 0.00e+00 |\n",
      "|  24   |  24   |  113  | +7.1723e+00 | 2.68e+00 | 7.98e-01 | 0.00e+00 |\n",
      "|  25   |  25   |  120  | +7.1681e+00 | 2.68e+00 | 6.90e-01 | 0.00e+00 |\n",
      "|  26   |  26   |  129  | +7.1651e+00 | 2.68e+00 | 4.42e-01 | 0.00e+00 |\n",
      "|  27   |  27   |  135  | +7.1634e+00 | 2.68e+00 | 2.26e-01 | 0.00e+00 |\n",
      "|  28   |  28   |  145  | +7.1634e+00 | 2.68e-01 | 2.26e-01 | 0.00e+00 |\n",
      "|  29   |  29   |  156  | +7.1632e+00 | 2.68e-01 | 3.38e-01 | 0.00e+00 |\n",
      "|  30   |  30   |  163  | +7.1606e+00 | 2.68e-01 | 2.25e-01 | 0.00e+00 |\n",
      "|  31   |  31   |  167  | +7.1597e+00 | 2.68e-01 | 7.23e-02 | 0.00e+00 |\n",
      "|  32   |  32   |  177  | +7.1597e+00 | 2.68e-02 | 7.23e-02 | 0.00e+00 |\n",
      "|  33   |  33   |  187  | +7.1597e+00 | 7.32e-03 | 7.23e-02 | 0.00e+00 |\n",
      "|  34   |  34   |  192  | +7.1595e+00 | 7.32e-03 | 8.60e-02 | 0.00e+00 |\n",
      "|  35   |  35   |  199  | +7.1595e+00 | 3.66e-03 | 8.60e-02 | 0.00e+00 |\n",
      "|  36   |  36   |  204  | +7.1594e+00 | 7.32e-03 | 6.44e-02 | 0.00e+00 |\n",
      "|  37   |  37   |  209  | +7.1591e+00 | 1.46e-02 | 7.90e-02 | 0.00e+00 |\n",
      "|  38   |  38   |  215  | +7.1582e+00 | 1.02e-01 | 1.31e-01 | 0.00e+00 |\n",
      "|  39   |  39   |  224  | +7.1560e+00 | 2.66e-01 | 9.48e-02 | 0.00e+00 |\n",
      "|  40   |  40   |  228  | +7.1560e+00 | 2.66e-01 | 4.54e-02 | 0.00e+00 |\n",
      "|  41   |  41   |  233  | +7.1558e+00 | 2.66e-01 | 4.50e-02 | 0.00e+00 |\n",
      "|  42   |  42   |  238  | +7.1554e+00 | 2.66e-01 | 8.51e-02 | 0.00e+00 |\n",
      "|  43   |  43   |  245  | +7.1546e+00 | 2.66e-01 | 1.37e-01 | 0.00e+00 |\n",
      "|  44   |  44   |  247  | +7.1545e+00 | 2.66e-01 | 8.24e-02 | 0.00e+00 |\n",
      "|  45   |  45   |  256  | +7.1528e+00 | 2.66e-01 | 6.39e-02 | 0.00e+00 |\n",
      "|  46   |  46   |  268  | +7.1507e+00 | 2.66e-01 | 1.19e-01 | 0.00e+00 |\n",
      "|  47   |  47   |  272  | +7.1502e+00 | 2.66e-01 | 8.65e-02 | 0.00e+00 |\n",
      "|  48   |  48   |  290  | +7.1451e+00 | 4.16e-01 | 1.00e-01 | 0.00e+00 |\n",
      "|  49   |  49   |  302  | +7.1451e+00 | 4.16e-02 | 1.00e-01 | 0.00e+00 |\n",
      "|  50   |  50   |  314  | +7.1451e+00 | 9.21e-03 | 1.00e-01 | 0.00e+00 |\n",
      "|  51   |  51   |  323  | +7.1449e+00 | 9.21e-03 | 4.31e-02 | 0.00e+00 |\n",
      "|  52   |  52   |  334  | +7.1441e+00 | 6.44e-02 | 7.24e-02 | 0.00e+00 |\n",
      "|  53   |  53   |  353  | +7.1416e+00 | 3.30e-01 | 1.16e-01 | 0.00e+00 |\n",
      "|  54   |  54   |  359  | +7.1412e+00 | 3.30e-01 | 7.40e-02 | 0.00e+00 |\n",
      "|  55   |  55   |  366  | +7.1408e+00 | 3.30e-01 | 2.81e-02 | 0.00e+00 |\n",
      "|  56   |  56   |  387  | +7.1388e+00 | 4.99e-01 | 4.84e-02 | 0.00e+00 |\n",
      "|  57   |  57   |  409  | +7.1388e+00 | 1.08e-01 | 4.84e-02 | 0.00e+00 |\n",
      "|  58   |  58   |  432  | +7.1372e+00 | 7.58e-01 | 8.93e-02 | 0.00e+00 |\n",
      "|  59   |  59   |  441  | +7.1367e+00 | 7.58e-01 | 8.51e-02 | 0.00e+00 |\n",
      "|  60   |  60   |  468  | +7.1367e+00 | 1.69e-01 | 8.51e-02 | 0.00e+00 |\n",
      "|  61   |  61   |  489  | +7.1339e+00 | 1.18e+00 | 1.30e-01 | 0.00e+00 |\n",
      "|  62   |  62   |  501  | +7.1310e+00 | 1.18e+00 | 6.74e-02 | 0.00e+00 |\n",
      "|  63   |  63   |  511  | +7.1308e+00 | 1.18e+00 | 5.24e-02 | 0.00e+00 |\n",
      "|  64   |  64   |  518  | +7.1307e+00 | 1.18e+00 | 4.90e-02 | 0.00e+00 |\n",
      "|  65   |  65   |  526  | +7.1305e+00 | 1.18e+00 | 4.83e-02 | 0.00e+00 |\n",
      "|  66   |  66   |  535  | +7.1304e+00 | 1.18e+00 | 5.55e-02 | 0.00e+00 |\n",
      "|  67   |  67   |  545  | +7.1302e+00 | 1.18e+00 | 5.01e-02 | 0.00e+00 |\n",
      "|  68   |  68   |  551  | +7.1300e+00 | 1.18e+00 | 3.30e-02 | 0.00e+00 |\n",
      "|  69   |  69   |  558  | +7.1298e+00 | 1.18e+00 | 3.06e-02 | 0.00e+00 |\n",
      "|  70   |  70   |  566  | +7.1295e+00 | 1.18e+00 | 3.44e-02 | 0.00e+00 |\n",
      "|  71   |  71   |  575  | +7.1288e+00 | 1.18e+00 | 4.71e-02 | 0.00e+00 |\n",
      "|  72   |  72   |  580  | +7.1287e+00 | 1.18e+00 | 4.79e-02 | 0.00e+00 |\n",
      "|  73   |  73   |  592  | +7.1278e+00 | 1.18e+00 | 4.35e-02 | 0.00e+00 |\n",
      "|  74   |  74   |  600  | +7.1278e+00 | 1.18e-01 | 4.35e-02 | 0.00e+00 |\n",
      "|  75   |  75   |  617  | +7.1278e+00 | 1.18e-02 | 4.35e-02 | 0.00e+00 |\n",
      "|  76   |  76   |  627  | +7.1278e+00 | 3.28e-03 | 4.35e-02 | 0.00e+00 |\n",
      "|  77   |  77   |  633  | +7.1278e+00 | 1.54e-03 | 4.35e-02 | 0.00e+00 |\n",
      "|  78   |  78   |  636  | +7.1277e+00 | 3.08e-03 | 3.09e-02 | 0.00e+00 |\n",
      "|  79   |  79   |  641  | +7.1277e+00 | 8.15e-04 | 3.09e-02 | 0.00e+00 |\n",
      "|  80   |  80   |  644  | +7.1277e+00 | 2.06e-04 | 3.09e-02 | 0.00e+00 |\n",
      "|  81   |  81   |  646  | +7.1277e+00 | 3.96e-05 | 3.09e-02 | 0.00e+00 |\n",
      "|  82   |  82   |  647  | +7.1277e+00 | 4.19e-06 | 3.09e-02 | 0.00e+00 |\n",
      "|  83   |  83   |  648  | +7.1277e+00 | 6.18e-07 | 3.09e-02 | 0.00e+00 |\n",
      "|  84   |  84   |  649  | +7.1277e+00 | 9.36e-08 | 3.09e-02 | 0.00e+00 |\n",
      "|  85   |  85   |  650  | +7.1277e+00 | 1.42e-08 | 3.09e-02 | 0.00e+00 |\n",
      "|  86   |  86   |  651  | +7.1277e+00 | 2.17e-09 | 3.09e-02 | 0.00e+00 |\n",
      "|  87   |  87   |  652  | +7.1277e+00 | 3.30e-10 | 3.09e-02 | 0.00e+00 |\n",
      "\n",
      "`xtol` termination condition is satisfied.\n",
      "Number of iterations: 87, function evaluations: 87, CG iterations: 652, optimality: 3.09e-02, constraint violation: 0.00e+00, execution time: 1.2e+02 s.\n"
     ]
    }
   ],
   "source": [
    "theta0r = np.zeros(2*(2*bigJ+1))\n",
    "\n",
    "res = scipy.optimize.minimize(fun=objgrad, x0=theta0r, jac=True, method='trust-constr', \n",
    "                              options={'gtol': 1e-9, 'xtol': 1e-9, 'verbose': 2})"
   ]
  },
  {
   "cell_type": "code",
   "execution_count": 18,
   "id": "f2cc5cdc-a715-4966-87d2-71c567395f13",
   "metadata": {},
   "outputs": [
    {
     "data": {
      "text/plain": [
       "7.127728698797097"
      ]
     },
     "execution_count": 18,
     "metadata": {},
     "output_type": "execute_result"
    }
   ],
   "source": [
    "objgrad(res.x)[0]"
   ]
  },
  {
   "cell_type": "code",
   "execution_count": 41,
   "id": "fc5c287e-fc9a-42ae-922c-3935afdeae7b",
   "metadata": {},
   "outputs": [],
   "source": [
    "np.savez('trustresdblwell.npz',res.x)"
   ]
  },
  {
   "cell_type": "code",
   "execution_count": 20,
   "id": "4d5b4bfd-b1fd-4899-a8bf-450782dda2bd",
   "metadata": {},
   "outputs": [],
   "source": [
    "# myres = np.array([-1.25946484e-03,  4.74873183e-03,  1.53364412e-02, -1.17326172e-02, \n",
    "#                   6.43005703e-03, -1.17341546e-02,  1.53372035e-02,  4.74964768e-03, \n",
    "#                   -1.26088174e-03, -1.79119114e-02, -3.51999786e-03,  4.69418203e-01, \n",
    "#                   7.43126275e-03, -1.14321699e-07, -7.43141730e-03, -4.69418964e-01, 3.52053755e-03,  1.79124299e-02])"
   ]
  },
  {
   "cell_type": "code",
   "execution_count": 86,
   "id": "0c11f47e-a391-4862-b0bf-80dc1be8a3d1",
   "metadata": {},
   "outputs": [],
   "source": [
    "myres = np.load('trustresdblwell.npz')['arr_0'] # res.x\n",
    "bigJ = 16\n",
    "myresC = myres[:(2*bigJ+1)] + 1j*myres[(2*bigJ+1):]\n",
    "# np.mean(np.square(np.abs(myresC - truetheta)))"
   ]
  },
  {
   "cell_type": "code",
   "execution_count": 89,
   "id": "d3dc223f-d293-41ba-9000-434d153d1882",
   "metadata": {},
   "outputs": [],
   "source": [
    "# now construct f on a plotting grid\n",
    "nplot = 129\n",
    "# xplot = np.linspace(-2*np.pi,2*np.pi, nplot)\n",
    "xplot = np.linspace(-1.5,1.5, nplot)\n",
    "f = np.zeros((nplot), dtype=np.complex128)\n",
    "for j in range(2*bigJ+1):\n",
    "    f += myresC[j]*np.exp(1j*xplot*modes[j])\n",
    "\n",
    "font = {'family' : 'serif',\n",
    "    'weight' : 'regular',\n",
    "    'size'   : 20}\n",
    "\n",
    "matplotlib.use('Agg')\n",
    "# np.sin(xplot) xplot - xplot**3\n",
    "matplotlib.rc('font', **font)\n",
    "plt.figure(figsize=(6,6))\n",
    "plt.plot(xplot, np.real(f), color='red',label='estimate')\n",
    "plt.plot(xplot, xplot - xplot**3, color='black', label='truth')\n",
    "plt.xlabel('x')\n",
    "#plt.gca().yaxis.set_label_coords(1.1,1.0)\n",
    "# plt.yticks(ticks=np.array([-1.5,-1.,-0.5,0.0,0.5,1.,1.5]),labels=[\"-1.5\",\"-1.0\",\"-0.5\",\"\",\"0.5\",\"1.0\",\"1.5\"])\n",
    "# plt.gca().yaxis.tick_right()\n",
    "plt.title('true and estimated drifts $f$')\n",
    "plt.legend(loc='upper center',prop={'size': 14},frameon=True, bbox_to_anchor=(0.831, 1.02))\n",
    "plt.grid()\n",
    "plt.show()\n",
    "plt.savefig('dblwell1d.pdf')\n",
    "# plt.savefig('sin1d.pdf')\n",
    "plt.close()"
   ]
  },
  {
   "cell_type": "code",
   "execution_count": 23,
   "id": "d275bcfc-a48f-4ecc-af69-96165b640d58",
   "metadata": {},
   "outputs": [],
   "source": [
    "# truetheta"
   ]
  },
  {
   "cell_type": "code",
   "execution_count": 94,
   "id": "d641a274-998d-4629-9d55-a08fb2d2af77",
   "metadata": {},
   "outputs": [],
   "source": [
    "thetaspace = np.linspace(0.0, 1.0, 100)\n",
    "lossspace = np.zeros(100)\n",
    "for ii in range(100):\n",
    "    thistheta = np.zeros(2*bigJ+1, dtype=np.complex128)\n",
    "    thistheta[bigJ+bigL] = -1j * thetaspace[ii]\n",
    "    thistheta[bigJ-bigL] = 1j * thetaspace[ii]\n",
    "    lossspace[ii] = MMDlossGPU(thistheta)"
   ]
  },
  {
   "cell_type": "code",
   "execution_count": 95,
   "id": "73a9e47a-50e3-4182-83eb-9aa9db66c542",
   "metadata": {},
   "outputs": [],
   "source": [
    "font = {'family' : 'serif',\n",
    "    'weight' : 'regular',\n",
    "    'size'   : 20}\n",
    "\n",
    "matplotlib.use('Agg')\n",
    "# np.sin(xplot) xplot - xplot**3\n",
    "matplotlib.rc('font', **font)\n",
    "plt.figure(figsize=(6,6))\n",
    "plt.plot(thetaspace, lossspace, color='red')\n",
    "plt.axvline(x=thetaspace[np.argmin(lossspace)], color='blue')\n",
    "plt.axvline(x=0.5, color='black')\n",
    "plt.xlabel('$ \\\\theta $')\n",
    "plt.title('MMD Loss($ \\\\theta $)')\n",
    "plt.savefig('sin1dmmdloss.pdf',bbox_inches='tight')\n",
    "plt.close()"
   ]
  },
  {
   "cell_type": "code",
   "execution_count": 26,
   "id": "879d7e80-e12a-49b9-a498-5b7b769955f0",
   "metadata": {},
   "outputs": [],
   "source": [
    "# truef = np.zeros(nplot, dtype=np.complex128)\n",
    "# for j in range(2*bigJ+1):\n",
    "#     truef += truetheta[j] * np.exp((j - bigJ)*1j*xplot/2)\n",
    "\n",
    "# plt.plot(xplot, truef)\n",
    "# plt.savefig('randomtestfig.pdf')\n",
    "# plt.close()"
   ]
  },
  {
   "cell_type": "code",
   "execution_count": 41,
   "id": "1f5cb9f3-a283-4ca3-bddf-280b227d61f4",
   "metadata": {},
   "outputs": [
    {
     "data": {
      "text/plain": [
       "array([ 0.01021105-1.64430735e-02j, -0.01074967-4.52742517e-04j,\n",
       "        0.01435173+4.88982669e-01j, -0.01890702-1.54525160e-02j,\n",
       "        0.00757787-9.25973354e-04j, -0.0188658 +1.64661631e-02j,\n",
       "        0.01328547-4.88638344e-01j, -0.0094562 -8.14386928e-04j,\n",
       "        0.00789035+1.72425304e-02j])"
      ]
     },
     "execution_count": 41,
     "metadata": {},
     "output_type": "execute_result"
    }
   ],
   "source": [
    "myresC"
   ]
  },
  {
   "cell_type": "code",
   "execution_count": 33,
   "id": "cd2779be-2594-45da-95ec-c3d71471c56a",
   "metadata": {},
   "outputs": [
    {
     "data": {
      "text/plain": [
       "0.47847847847847846"
      ]
     },
     "execution_count": 33,
     "metadata": {},
     "output_type": "execute_result"
    }
   ],
   "source": [
    "thetaspace[np.argmin(lossspace)]"
   ]
  },
  {
   "cell_type": "code",
   "execution_count": 43,
   "id": "d23212f2-608e-4e00-b3d1-9563c3442cc9",
   "metadata": {},
   "outputs": [
    {
     "data": {
      "text/plain": [
       "6"
      ]
     },
     "execution_count": 43,
     "metadata": {},
     "output_type": "execute_result"
    }
   ],
   "source": [
    "bigJ+bigL"
   ]
  },
  {
   "cell_type": "code",
   "execution_count": null,
   "id": "7c154930-75a9-4c4c-bb70-39d4438a9d82",
   "metadata": {},
   "outputs": [],
   "source": []
  }
 ],
 "metadata": {
  "kernelspec": {
   "display_name": "NERSC Python",
   "language": "python",
   "name": "python3"
  },
  "language_info": {
   "codemirror_mode": {
    "name": "ipython",
    "version": 3
   },
   "file_extension": ".py",
   "mimetype": "text/x-python",
   "name": "python",
   "nbconvert_exporter": "python",
   "pygments_lexer": "ipython3",
   "version": "3.9.7"
  }
 },
 "nbformat": 4,
 "nbformat_minor": 5
}
