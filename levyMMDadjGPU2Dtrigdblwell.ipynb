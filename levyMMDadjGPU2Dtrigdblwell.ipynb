{
 "cells": [
  {
   "cell_type": "code",
   "execution_count": 1,
   "id": "8a13dfee-59aa-4bf8-851c-4d8dd1fc1de5",
   "metadata": {},
   "outputs": [],
   "source": [
    "import os\n",
    "os.environ[\"CUDA_VISIBLE_DEVICES\"]=\"1\"\n",
    "\n",
    "from numba import jit, njit, cuda, prange\n",
    "import numpy as np\n",
    "\n",
    "import matplotlib\n",
    "%matplotlib inline\n",
    "import matplotlib.pyplot as plt\n",
    "\n",
    "import scipy.signal as ss\n",
    "import scipy.integrate as si\n",
    "import scipy.optimize\n",
    "\n",
    "import time"
   ]
  },
  {
   "cell_type": "code",
   "execution_count": 2,
   "id": "4e1ca808-a605-48de-97cc-85dca6848cbb",
   "metadata": {},
   "outputs": [
    {
     "name": "stdout",
     "output_type": "stream",
     "text": [
      "(400001, 100, 2)\n"
     ]
    },
    {
     "data": {
      "image/png": "[encoded data removed]",
      "text/plain": [
       "<Figure size 640x480 with 1 Axes>"
      ]
     },
     "metadata": {},
     "output_type": "display_data"
    }
   ],
   "source": [
    "mctrajlist = []\n",
    "for i in range(100):\n",
    "    fname = '/pscratch/sd/h/hbhat512/mcsoldblwell/mctrigdblwell2d' + str(i+1) + '.dat'\n",
    "    arr = np.fromfile(fname, dtype=np.float64).reshape((-1,2))\n",
    "    mctrajlist.append(arr)\n",
    "\n",
    "mctraj = np.stack(mctrajlist, 1)\n",
    "# mctraj = mctraj[:101,:,:]\n",
    "print(mctraj.shape)\n",
    "\n",
    "plt.plot(mctraj[:,0,0],mctraj[:,0,1])\n",
    "plt.show()"
   ]
  },
  {
   "cell_type": "code",
   "execution_count": 3,
   "id": "1642590d-006e-422c-918c-224667dd2817",
   "metadata": {},
   "outputs": [
    {
     "name": "stdout",
     "output_type": "stream",
     "text": [
      "(101, 100, 2)\n"
     ]
    }
   ],
   "source": [
    "dilfac = 4000\n",
    "mctraj = mctraj[::dilfac,:]\n",
    "#plt.plot(mctraj)\n",
    "#plt.show()\n",
    "numtraj = mctraj.shape[1]\n",
    "lentraj = mctraj.shape[0]\n",
    "print(mctraj.shape)"
   ]
  },
  {
   "cell_type": "code",
   "execution_count": 4,
   "id": "77af9e3e-f1c3-45a9-bf4d-d897fbe05c80",
   "metadata": {},
   "outputs": [
    {
     "name": "stdout",
     "output_type": "stream",
     "text": [
      "[0.125, -4.0, 4.0]\n",
      "5\n",
      "100\n",
      "100\n"
     ]
    }
   ],
   "source": [
    "# time step of the data\n",
    "deltat = 0.0001*dilfac\n",
    "\n",
    "# crucial parameter that sets internal time step\n",
    "numsteps = dilfac\n",
    "h = deltat/numsteps\n",
    "\n",
    "# constant diffusion\n",
    "g = 0.1\n",
    "\n",
    "# levy alpha parameter\n",
    "alpha = 1.0\n",
    "\n",
    "# take L = 2\n",
    "bigL = 2\n",
    "\n",
    "# set n2, number of points to the left of the origin\n",
    "n2 = 32\n",
    "npts = 2*n2 + 1\n",
    "nplot = npts\n",
    "xplot = np.linspace(-2*np.pi, 2*np.pi, nplot+1)\n",
    "xplot = xplot[:nplot]\n",
    "xp1, xp2 = np.meshgrid(xplot, xplot)\n",
    "\n",
    "# number of modes to keep track of in theta\n",
    "# used bigJ = 4 for sin2d\n",
    "bigJ = 4\n",
    "\n",
    "# take n_L = 2\n",
    "nL = 4\n",
    "ds = 1.0/(bigL*nL)\n",
    "uvec = np.arange(-n2,n2+1)*ds\n",
    "umin = np.amin(uvec)\n",
    "umax = np.amax(uvec)\n",
    "\n",
    "U1, U2 = np.meshgrid(uvec, uvec)\n",
    "\n",
    "print([ds, umin, umax])\n",
    "\n",
    "# first axis in newpsi and oldpsi refers to the batching dimension\n",
    "batchsize = 20\n",
    "numbatches = (lentraj-1)//batchsize\n",
    "print(numbatches)\n",
    "print(lentraj-1)\n",
    "print(numbatches*batchsize)"
   ]
  },
  {
   "cell_type": "code",
   "execution_count": 5,
   "id": "7e30c6d6-2248-4d61-b7ac-1a8b5b49f534",
   "metadata": {},
   "outputs": [],
   "source": [
    "# now construct f on a plotting grid\n",
    "@njit\n",
    "def represent(theta, JJ):\n",
    "    f1 = np.zeros((nplot, nplot), dtype=np.complex128)\n",
    "    f2 = np.zeros((nplot, nplot), dtype=np.complex128)    \n",
    "    modes = np.arange(-JJ,JJ+1)/bigL\n",
    "    for j1 in range(2*JJ+1):\n",
    "        for j2 in range(2*JJ+1):\n",
    "            f1 += theta[j1, j2, 0]*np.exp(1j*(xp1*modes[j1] + xp2*modes[j2]))\n",
    "            f2 += theta[j1, j2, 1]*np.exp(1j*(xp1*modes[j1] + xp2*modes[j2]))\n",
    "    \n",
    "    return f1, f2\n",
    "\n",
    "# now construct f on a plotting grid\n",
    "# low-dimensional version\n",
    "@njit\n",
    "def LDrepresent(theta, JJ):\n",
    "    f1 = np.zeros((nplot, nplot), dtype=np.complex128)\n",
    "    f2 = np.zeros((nplot, nplot), dtype=np.complex128)\n",
    "    modes = np.arange(-JJ,JJ+1)/bigL\n",
    "    for j2 in range(2*JJ+1):\n",
    "        f1 += theta[JJ, j2, 0]*np.exp(1j*(xp1*modes[JJ] + xp2*modes[j2]))\n",
    "    \n",
    "    for j1 in range(2*JJ+1):\n",
    "        f2 += theta[j1, JJ, 1]*np.exp(1j*(xp1*modes[j1] + xp2*modes[JJ]))\n",
    "    \n",
    "    return f1, f2"
   ]
  },
  {
   "cell_type": "code",
   "execution_count": 6,
   "id": "37de1931-76de-4653-a72d-6772ae8a909a",
   "metadata": {},
   "outputs": [
    {
     "name": "stdout",
     "output_type": "stream",
     "text": [
      "0.0\n",
      "3.1465569626389376e-31\n"
     ]
    }
   ],
   "source": [
    "truetheta = np.zeros((2*bigJ+1, 2*bigJ+1, 2), dtype=np.complex128)\n",
    "\n",
    "for j in range(-bigJ, bigJ+1):\n",
    "    if j == -2:\n",
    "        truetheta[bigJ, bigJ + j, 0] = 0.5j\n",
    "    if j == 2:\n",
    "        truetheta[bigJ, bigJ + j, 0] = -0.5j\n",
    "\n",
    "# for j in range(-bigJ, bigJ+1):\n",
    "#     if j == -2:\n",
    "#         truetheta[bigJ + j, bigJ, 1] = -0.5j\n",
    "#     if j == 2:\n",
    "#         truetheta[bigJ + j, bigJ, 1] = 0.5j\n",
    "\n",
    "for j in range(-bigJ, bigJ+1):\n",
    "    if j == -2:\n",
    "        truetheta[bigJ + j, bigJ, 1] = 7j/40\n",
    "    if j == 2:\n",
    "        truetheta[bigJ + j, bigJ, 1] = -7j/40\n",
    "    if j == -4:\n",
    "        truetheta[bigJ + j, bigJ, 1] = 1j/80\n",
    "    if j == 4:\n",
    "        truetheta[bigJ + j, bigJ, 1] = -1j/80\n",
    "\n",
    "# Fourier representation of f_1(x1,x2) = x2\n",
    "# for j in range(-bigJ, bigJ+1):\n",
    "#     if j != 0:\n",
    "#         truetheta[bigJ, bigJ + j, 0] = 4j*(-1)**j / (j*bigL)\n",
    "\n",
    "# V(x) = (x**2 - 4)**2 / 10\n",
    "# Fourier representation of f_2(x1,x2) = -V'(x1)\n",
    "# for j in range(-bigJ, bigJ+1):\n",
    "#     if j != 0:\n",
    "#         truetheta[bigJ + j, bigJ, 1] = -(32*1j*(-1)**j*(-6 + j**2*(-1 + np.pi**2)))/(5*(j**3)*bigL)\n",
    "\n",
    "f1, f2 = LDrepresent(truetheta, bigJ)\n",
    "dx = xplot[1] - xplot[0]\n",
    "truef1 = np.sin(xp2)\n",
    "print(np.sum(np.square(np.abs(f1 - truef1))) * dx**2)\n",
    "truef2 = 0.05*(7 + np.cos(xp1))*np.sin(xp1)\n",
    "# truef2 = -np.sin(xp1)\n",
    "print(np.sum(np.square(np.abs(f2 - truef2))) * dx**2)"
   ]
  },
  {
   "cell_type": "code",
   "execution_count": 7,
   "id": "631c6788-29df-4605-ab08-96c8f5efe7d4",
   "metadata": {},
   "outputs": [],
   "source": [
    "@njit(parallel=True)\n",
    "def empiricalcharfun(mc):\n",
    "    psi = np.zeros((lentraj,npts,npts), dtype=np.complex128)\n",
    "    for kk in prange(lentraj):\n",
    "        for ii in prange(npts):\n",
    "            for jj in prange(npts):\n",
    "                psi[kk,ii,jj] = np.mean(np.exp(1j*(uvec[ii]*mc[kk,:,0]+uvec[jj]*mc[kk,:,1])))\n",
    "    return psi\n"
   ]
  },
  {
   "cell_type": "code",
   "execution_count": 8,
   "id": "e21f48e4-9d4e-40f8-98e6-ffe3511c155d",
   "metadata": {},
   "outputs": [
    {
     "name": "stdout",
     "output_type": "stream",
     "text": [
      "(101, 65, 65)\n",
      "(65, 65)\n"
     ]
    }
   ],
   "source": [
    "psiall = empiricalcharfun(mctraj)\n",
    "print(psiall.shape)\n",
    "\n",
    "# initial char fun\n",
    "psi0 = psiall[:-1,:,:]\n",
    "\n",
    "# target char fun\n",
    "psitarget = psiall[1:,:,:]\n",
    "\n",
    "# need this guy to propagate\n",
    "diagfac = np.exp(-h*np.abs((U1 + U2)*g)**alpha)\n",
    "print(diagfac.shape)\n",
    "\n",
    "ddiagfac = cuda.to_device(diagfac)"
   ]
  },
  {
   "cell_type": "code",
   "execution_count": 9,
   "id": "be480814-1b53-4647-9f8d-35adf54b0ce0",
   "metadata": {},
   "outputs": [],
   "source": [
    "@cuda.jit('void(complex128[:,:,:], complex128[:,:,:], complex128[:,:,:], complex128[:,:,:,:], float64[:,:])')\n",
    "def update(newpsi, oldpsi, dtheta, dtheta2, ddiagfac):\n",
    "    m, j1, j2 = cuda.grid(3)\n",
    "    if m < batchsize and j1 < npts and j2 < npts:\n",
    "        term11 = 0.0\n",
    "        term12 = 0.0\n",
    "        truej1 = j1 - n2\n",
    "        truej2 = j2 - n2\n",
    "        for jp1 in range(2*bigJ+1):\n",
    "            for jp2 in range(2*bigJ+1):\n",
    "                if abs(truej1 + (jp1-bigJ)*nL) <= n2 and abs(truej2 + (jp2-bigJ)*nL) <= n2:\n",
    "                    tmp = oldpsi[m, j1 + (jp1-bigJ)*nL, j2 + (jp2-bigJ)*nL]\n",
    "                    term11 += dtheta[jp1, jp2, 0]*tmp\n",
    "                    term12 += dtheta[jp1, jp2, 1]*tmp\n",
    "                    \n",
    "        term211 = 0.0\n",
    "        term212 = 0.0\n",
    "        term221 = 0.0\n",
    "        term222 = 0.0\n",
    "        for k1 in range(4*bigJ+1):\n",
    "            for k2 in range(4*bigJ+1):\n",
    "                if abs(truej1 + (k1-2*bigJ)*nL) <= n2 and abs(truej2 + (k2-2*bigJ)*nL) <= n2:\n",
    "                    tmp = oldpsi[m, j1 + (k1-2*bigJ)*nL, j2 + (k2-2*bigJ)*nL]\n",
    "                    term211 += dtheta2[k1, k2, 0, 0]*tmp\n",
    "                    term212 += dtheta2[k1, k2, 0, 1]*tmp\n",
    "                    term221 += dtheta2[k1, k2, 1, 0]*tmp\n",
    "                    term222 += dtheta2[k1, k2, 1, 1]*tmp\n",
    "        newpsi[m, j1, j2] += 1j*(h*ds)*(truej1*term11 + truej2*term12)\n",
    "        newpsi[m, j1, j2] += -0.5*((h*ds)**2)*(term211*truej1**2 + (term212+term221)*truej1*truej2 + term222*truej2**2)\n",
    "        newpsi[m, j1, j2] *= ddiagfac[j1, j2] # math.exp(-h*ds*g*abs(truej1+truej2)**alpha)"
   ]
  },
  {
   "cell_type": "code",
   "execution_count": 10,
   "id": "b90cffae-1154-47ab-8b39-53f4558022ae",
   "metadata": {},
   "outputs": [],
   "source": [
    "@cuda.jit\n",
    "def copyover(newpsi, oldpsi):\n",
    "    m, i, j = cuda.grid(3)\n",
    "    if m < batchsize and i < npts and j < npts:\n",
    "        oldpsi[m,i,j] = newpsi[m,i,j]"
   ]
  },
  {
   "cell_type": "code",
   "execution_count": 11,
   "id": "46b17272-d429-4d6d-a3c1-9fc9e674b4ac",
   "metadata": {},
   "outputs": [],
   "source": [
    "def MMDlossGPU(theta):\n",
    "    theta2 = np.zeros((4*bigJ+1, 4*bigJ+1, 2, 2), dtype=np.complex128)\n",
    "    for i in range(2):\n",
    "        for j in range(2):\n",
    "            theta2[:,:,i,j] = ss.convolve(theta[:,:,i], theta[:,:,j])\n",
    "    \n",
    "    dtheta = cuda.to_device(theta)\n",
    "    dtheta2 = cuda.to_device(theta2)\n",
    "    \n",
    "    threadsperblock = (8,8,8) # try 8, 10, 10\n",
    "    blockspergrid_x = int(np.ceil(batchsize / threadsperblock[0]))\n",
    "    blockspergrid_y = int(np.ceil(npts / threadsperblock[1]))\n",
    "    blockspergrid_z = int(np.ceil(npts / threadsperblock[2]))\n",
    "    blockspergrid = (blockspergrid_x, blockspergrid_y, blockspergrid_z)\n",
    "    \n",
    "    loss = 0.0\n",
    "    for batch in range(numbatches):\n",
    "        thisbatch = np.arange(batch*batchsize, (batch+1)*batchsize, dtype=np.int32)\n",
    "        doldpsi = cuda.to_device(psi0[thisbatch,:,:])\n",
    "        dnewpsi = cuda.to_device(psi0[thisbatch,:,:])\n",
    "        for k in range(numsteps):\n",
    "            update[blockspergrid, threadsperblock](dnewpsi, doldpsi, dtheta, dtheta2, ddiagfac)\n",
    "            copyover[blockspergrid, threadsperblock](dnewpsi, doldpsi)\n",
    "        psifinal = dnewpsi.copy_to_host() \n",
    "        loss += 0.5*np.sum(np.square(np.abs(psifinal - psitarget[thisbatch,:,:])))\n",
    "    \n",
    "    return loss/(lentraj-1)"
   ]
  },
  {
   "cell_type": "code",
   "execution_count": 12,
   "id": "a95b6329-bfa8-43da-a5b5-75b59c2d6e4c",
   "metadata": {},
   "outputs": [
    {
     "name": "stdout",
     "output_type": "stream",
     "text": [
      "8.97767423678729\n"
     ]
    }
   ],
   "source": [
    "test = MMDlossGPU(truetheta)\n",
    "print(test)"
   ]
  },
  {
   "cell_type": "code",
   "execution_count": 13,
   "id": "b0fdbd04-25af-430e-a7a7-d76d357baa00",
   "metadata": {},
   "outputs": [],
   "source": [
    "# def trialtheta(p1, p2):\n",
    "#     theta = np.zeros((2*bigJ+1, 2*bigJ+1, 2), dtype=np.complex128)\n",
    "\n",
    "#     for j in range(-bigJ, bigJ+1):\n",
    "#         if j == -2:\n",
    "#             theta[bigJ, bigJ + j, 0] = -p1*1j\n",
    "#         if j == 2:\n",
    "#             theta[bigJ, bigJ + j, 0] = p1*1j\n",
    "\n",
    "#     for j in range(-bigJ, bigJ+1):\n",
    "#         if j == -2:\n",
    "#             theta[bigJ + j, bigJ, 1] = -p2*1j\n",
    "#         if j == 2:\n",
    "#             theta[bigJ + j, bigJ, 1] = p2*1j\n",
    "    \n",
    "#     return theta"
   ]
  },
  {
   "cell_type": "code",
   "execution_count": 14,
   "id": "41f01b5a-2229-4326-b074-3f05b578b6fc",
   "metadata": {
    "scrolled": true,
    "tags": []
   },
   "outputs": [],
   "source": [
    "# nn = 20\n",
    "# p1vec = np.linspace(-2,2,nn)\n",
    "# p2vec = np.linspace(-2,2,nn)\n",
    "# lossarray = np.zeros((nn, nn))\n",
    "# for p1ind in range(nn):\n",
    "#     for p2ind in range(nn):\n",
    "#         print(p1ind, p2ind)\n",
    "#         lossarray[p1ind,p2ind] = MMDlossGPU(trialtheta(p1vec[p1ind], p2vec[p2ind]))"
   ]
  },
  {
   "cell_type": "code",
   "execution_count": 15,
   "id": "94116e2c-d950-4a8d-8d96-8aa3c35884c8",
   "metadata": {},
   "outputs": [],
   "source": [
    "# plt.contour(p1vec, p2vec, lossarray,levels=20)\n",
    "# plt.show()"
   ]
  },
  {
   "cell_type": "code",
   "execution_count": 16,
   "id": "c60d8252-1b06-4077-89aa-0b0bfc262b12",
   "metadata": {},
   "outputs": [],
   "source": [
    "# lossarray"
   ]
  },
  {
   "cell_type": "code",
   "execution_count": 17,
   "id": "133ba7e0-4e1d-4a51-9ac7-f2352a8c98aa",
   "metadata": {},
   "outputs": [],
   "source": [
    "@cuda.jit('void(complex128[:,:,:], complex128[:,:,:], complex128[:,:,:], complex128[:,:,:,:], float64[:,:])')\n",
    "def updatev2(newpsi, oldpsi, dtheta, dtheta2, ddiagfac):\n",
    "    m, j1, j2 = cuda.grid(3)\n",
    "    if m < batchsize and j1 < npts and j2 < npts:\n",
    "        term11 = 0.0\n",
    "        term12 = 0.0\n",
    "        truej1 = j1 - n2\n",
    "        truej2 = j2 - n2\n",
    "        for jp1 in range(2*bigJ+1):\n",
    "            for jp2 in range(2*bigJ+1):\n",
    "                if abs(truej1 + (jp1-bigJ)*nL) <= n2 and abs(truej2 + (jp2-bigJ)*nL) <= n2:\n",
    "                    tmp = oldpsi[m, j1 + (jp1-bigJ)*nL, j2 + (jp2-bigJ)*nL]\n",
    "                    term11 += dtheta[jp1, jp2, 0]*tmp\n",
    "                    term12 += dtheta[jp1, jp2, 1]*tmp\n",
    "                    \n",
    "        term211 = 0.0\n",
    "        term212 = 0.0\n",
    "        term221 = 0.0\n",
    "        term222 = 0.0\n",
    "        for k1 in range(4*bigJ+1):\n",
    "            for k2 in range(4*bigJ+1):\n",
    "                if abs(truej1 + (k1-2*bigJ)*nL) <= n2 and abs(truej2 + (k2-2*bigJ)*nL) <= n2:\n",
    "                    tmp = oldpsi[m, j1 + (k1-2*bigJ)*nL, j2 + (k2-2*bigJ)*nL]\n",
    "                    term211 += dtheta2[k1, k2, 0, 0]*tmp\n",
    "                    term212 += dtheta2[k1, k2, 0, 1]*tmp\n",
    "                    term221 += dtheta2[k1, k2, 1, 0]*tmp\n",
    "                    term222 += dtheta2[k1, k2, 1, 1]*tmp\n",
    "        newpsi[m, j1, j2] = oldpsi[m, j1, j2]\n",
    "        newpsi[m, j1, j2] += 1j*(h*ds)*(truej1*term11 + truej2*term12)\n",
    "        newpsi[m, j1, j2] += -0.5*((h*ds)**2)*(term211*truej1**2 + (term212+term221)*truej1*truej2 + term222*truej2**2)\n",
    "        newpsi[m, j1, j2] *= ddiagfac[j1, j2] # math.exp(-h*ds*g*abs(truej1+truej2)**alpha)"
   ]
  },
  {
   "cell_type": "code",
   "execution_count": 18,
   "id": "192020a0-a801-4a38-ac47-5c705b5f168e",
   "metadata": {},
   "outputs": [],
   "source": [
    "# @cuda.jit('void(complex128[:,:,:,:,:,:], complex128[:,:,:], complex128[:,:,:], float64[:,:])')\n",
    "# def derivupdate(psi1, psi0, theta, diagfac):\n",
    "#     m, j1, j2 = cuda.grid(3)\n",
    "#     if m < batchsize and j1 < npts and j2 < npts:\n",
    "#         truej1 = j1 - n2\n",
    "#         truej2 = j2 - n2\n",
    "#         for r1 in range(2*bigJ+1):\n",
    "#             for r2 in range(2*bigJ+1):\n",
    "#                 psi1[m,j1,j2,r1,r2,0] = 0.0\n",
    "#                 psi1[m,j1,j2,r1,r2,1] = 0.0\n",
    "#                 truer1 = r1 - bigJ\n",
    "#                 truer2 = r2 - bigJ\n",
    "#                 if abs(truej1 + truer1*nL) <= n2 and abs(truej2 + truer2*nL) <= n2:\n",
    "#                     tmp = psi0[m, j1 + truer1*nL, j2 + truer2*nL]\n",
    "#                     psi1[m,j1,j2,r1,r2,0] += 1j*(h*ds)*(j1-n2)*diagfac[j1,j2]*tmp\n",
    "#                     psi1[m,j1,j2,r1,r2,1] += 1j*(h*ds)*(j2-n2)*diagfac[j1,j2]*tmp\n",
    "\n",
    "#                 for k1 in range(4*bigJ+1):\n",
    "#                     for k2 in range(4*bigJ+1):\n",
    "#                         truek1 = k1 - 2*bigJ\n",
    "#                         truek2 = k2 - 2*bigJ\n",
    "#                         if abs(truek1-truer1)<=bigJ and abs(truek2-truer2)<=bigJ:\n",
    "#                             if abs(truej1 + truek1*nL) <= n2 and abs(truej2 + truek2*nL) <= n2:\n",
    "#                                 tmp = psi0[m, j1 + truek1*nL, j2 + truek2*nL]\n",
    "#                                 term21 = theta[truek1-truer1+bigJ,truek2-truer2+bigJ,0]\n",
    "#                                 term22 = theta[truek1-truer1+bigJ,truek2-truer2+bigJ,1]\n",
    "#                                 psi1[m,j1,j2,r1,r2,0] += -((h*ds)**2)*(j1-n2)*(term21 * truej1 + term22 * truej2)*tmp*diagfac[j1,j2]\n",
    "#                                 psi1[m,j1,j2,r1,r2,1] += -((h*ds)**2)*(j2-n2)*(term21 * truej1 + term22 * truej2)*tmp*diagfac[j1,j2] \n"
   ]
  },
  {
   "cell_type": "code",
   "execution_count": 19,
   "id": "76bb522f-0d3a-407e-98ce-69d9d60d5bce",
   "metadata": {},
   "outputs": [],
   "source": [
    "# @njit(parallel=True)\n",
    "# def CPUderivreduce3(lamb0, psi0, theta, diagfac, r1, r2):\n",
    "#     psi1 = np.zeros((2,batchsize*numsteps,npts,npts), dtype=np.complex128)\n",
    "#     for m in prange(batchsize*numsteps):\n",
    "#         for j1 in prange(npts):\n",
    "#             for j2 in prange(npts):\n",
    "#                 truej1 = j1 - n2\n",
    "#                 truej2 = j2 - n2\n",
    "#                 lambval = lamb0[m, j1, j2]\n",
    "#                 lambvalconj = lambval.real - 1j*lambval.imag\n",
    "#                 truer1 = r1 - bigJ\n",
    "#                 truer2 = r2 - bigJ\n",
    "#                 if abs(truej1 + truer1*nL) <= n2 and abs(truej2 + truer2*nL) <= n2:\n",
    "#                     tmp = psi0[m, j1 + truer1*nL, j2 + truer2*nL]\n",
    "#                     psi1[0,m,j1,j2] += lambvalconj*1j*(h*ds)*(j1-n2)*diagfac[j1,j2]*tmp\n",
    "#                     psi1[1,m,j1,j2] += lambvalconj*1j*(h*ds)*(j2-n2)*diagfac[j1,j2]*tmp\n",
    "\n",
    "#                 for k1 in range(4*bigJ+1):\n",
    "#                     for k2 in range(4*bigJ+1):\n",
    "#                         truek1 = k1 - 2*bigJ\n",
    "#                         truek2 = k2 - 2*bigJ\n",
    "#                         if abs(truek1-truer1) <= bigJ and abs(truek2-truer2) <= bigJ:\n",
    "#                             if abs(truej1 + truek1*nL) <= n2 and abs(truej2 + truek2*nL) <= n2:\n",
    "#                                 tmp = psi0[m, j1 + truek1*nL, j2 + truek2*nL]\n",
    "#                                 term21 = theta[truek1-truer1+bigJ,truek2-truer2+bigJ,0]\n",
    "#                                 term22 = theta[truek1-truer1+bigJ,truek2-truer2+bigJ,1]\n",
    "#                                 psi1[0,m,j1,j2] += -lambvalconj*((h*ds)**2)*(j1-n2)*(term21 * truej1 + term22 * truej2)*tmp*diagfac[j1,j2]\n",
    "#                                 psi1[1,m,j1,j2] += -lambvalconj*((h*ds)**2)*(j2-n2)*(term21 * truej1 + term22 * truej2)*tmp*diagfac[j1,j2]\n",
    "#     return psi1\n",
    "\n",
    "\n",
    "@cuda.jit('void(complex128[:,:,:,:], complex128[:,:,:], complex128[:,:,:], complex128[:,:,:], float64[:,:], int32, int32)')\n",
    "def derivreduce3(psi1, lamb0conj, psi0, theta, diagfac, r1, r2):\n",
    "    m, j1, j2 = cuda.grid(3)\n",
    "    if m < batchsize*numsteps and j1 < npts and j2 < npts:\n",
    "        out0 = 0.0\n",
    "        out1 = 0.0\n",
    "        truej1 = j1 - n2\n",
    "        truej2 = j2 - n2\n",
    "        lambvalconj = lamb0conj[m, j1, j2]\n",
    "        truer1 = r1 - bigJ\n",
    "        truer2 = r2 - bigJ\n",
    "        if abs(truej1 + truer1*nL) <= n2 and abs(truej2 + truer2*nL) <= n2:\n",
    "            tmp = psi0[m, j1 + truer1*nL, j2 + truer2*nL]\n",
    "            overall = lambvalconj*1j*(h*ds)*diagfac[j1,j2]*tmp\n",
    "            out0 += overall*truej1\n",
    "            out1 += overall*truej2\n",
    "\n",
    "        for k1 in range(4*bigJ+1):\n",
    "            for k2 in range(4*bigJ+1):\n",
    "                truek1 = k1 - 2*bigJ\n",
    "                truek2 = k2 - 2*bigJ\n",
    "                if abs(truek1-truer1) <= bigJ and abs(truek2-truer2) <= bigJ:\n",
    "                    if abs(truej1 + truek1*nL) <= n2 and abs(truej2 + truek2*nL) <= n2:\n",
    "                        tmp2 = psi0[m, j1 + truek1*nL, j2 + truek2*nL]\n",
    "                        term21 = theta[truek1-truer1+bigJ,truek2-truer2+bigJ,0]\n",
    "                        term22 = theta[truek1-truer1+bigJ,truek2-truer2+bigJ,1]\n",
    "                        overall2 = -lambvalconj*((h*ds)**2)*(term21 * truej1 + term22 * truej2)*tmp2*diagfac[j1,j2]\n",
    "                        out0 += overall2*truej1\n",
    "                        out1 += overall2*truej2\n",
    "        \n",
    "        psi1[0,m,j1,j2] = out0\n",
    "        psi1[1,m,j1,j2] = out1"
   ]
  },
  {
   "cell_type": "code",
   "execution_count": 20,
   "id": "62b3abec-a0ba-435c-b7e4-c57c8379c45e",
   "metadata": {},
   "outputs": [],
   "source": [
    "# @cuda.jit('void(complex128[:,:,:,:], complex128[:,:,:], complex128[:,:,:], complex128[:,:,:], float64[:,:], int32, int32)')\n",
    "# def derivreduce2(psi1, lamb0, psi0, theta, diagfac, j1, j2):\n",
    "#     m, r1, r2 = cuda.grid(3)\n",
    "#     if m < batchsize and r1 < (2*bigJ+1) and r2 < (2*bigJ+1):\n",
    "#         truer1 = r1 - bigJ\n",
    "#         truer2 = r2 - bigJ\n",
    "#         lambval = lamb0[m, j1, j2]\n",
    "#         lambvalconj = lambval.real - 1j*lambval.imag\n",
    "#         truej1 = j1 - n2\n",
    "#         truej2 = j2 - n2\n",
    "#         if abs(truej1 + truer1*nL) <= n2 and abs(truej2 + truer2*nL) <= n2:\n",
    "#             tmp = psi0[m, j1 + truer1*nL, j2 + truer2*nL]\n",
    "#             psi1[m,r1,r2,0] += lambvalconj*1j*(h*ds)*(j1-n2)*diagfac[j1,j2]*tmp\n",
    "#             psi1[m,r1,r2,1] += lambvalconj*1j*(h*ds)*(j2-n2)*diagfac[j1,j2]*tmp\n",
    "\n",
    "#         for k1 in range(4*bigJ+1):\n",
    "#             for k2 in range(4*bigJ+1):\n",
    "#                 truek1 = k1 - 2*bigJ\n",
    "#                 truek2 = k2 - 2*bigJ\n",
    "#                 if abs(truek1-truer1) <= bigJ and abs(truek2-truer2) <= bigJ:\n",
    "#                     if abs(truej1 + truek1*nL) <= n2 and abs(truej2 + truek2*nL) <= n2:\n",
    "#                         tmp = psi0[m, j1 + truek1*nL, j2 + truek2*nL]\n",
    "#                         term21 = theta[truek1-truer1+bigJ,truek2-truer2+bigJ,0]\n",
    "#                         term22 = theta[truek1-truer1+bigJ,truek2-truer2+bigJ,1]\n",
    "#                         psi1[m,r1,r2,0] += -lambvalconj*((h*ds)**2)*(j1-n2)*(term21 * truej1 + term22 * truej2)*tmp*diagfac[j1,j2]\n",
    "#                         psi1[m,r1,r2,1] += -lambvalconj*((h*ds)**2)*(j2-n2)*(term21 * truej1 + term22 * truej2)*tmp*diagfac[j1,j2] \n"
   ]
  },
  {
   "cell_type": "code",
   "execution_count": 21,
   "id": "5c0297ba-60db-4ca3-a929-e6070c3bf850",
   "metadata": {},
   "outputs": [],
   "source": [
    "# @cuda.jit('void(complex128[:,:,:,:], complex128[:,:,:], complex128[:,:,:], complex128[:,:,:], float64[:,:])')\n",
    "# def derivreduce(psi1, lamb0, psi0, theta, diagfac):\n",
    "#     m, r1, r2 = cuda.grid(3)\n",
    "#     if m < batchsize and r1 < (2*bigJ+1) and r2 < (2*bigJ+1):\n",
    "#         truer1 = r1 - bigJ\n",
    "#         truer2 = r2 - bigJ\n",
    "#         psi1[m,r1,r2,0] = 0.0\n",
    "#         psi1[m,r1,r2,1] = 0.0\n",
    "#         for j1 in range(npts):\n",
    "#             for j2 in range(npts):\n",
    "#                 lambval = lamb0[m, j1, j2]\n",
    "#                 lambvalconj = lambval.real - 1j*lambval.imag\n",
    "#                 truej1 = j1 - n2\n",
    "#                 truej2 = j2 - n2\n",
    "#                 if abs(truej1 + truer1*nL) <= n2 and abs(truej2 + truer2*nL) <= n2:\n",
    "#                     tmp = psi0[m, j1 + truer1*nL, j2 + truer2*nL]\n",
    "#                     psi1[m,r1,r2,0] += lambvalconj*1j*(h*ds)*(j1-n2)*diagfac[j1,j2]*tmp\n",
    "#                     psi1[m,r1,r2,1] += lambvalconj*1j*(h*ds)*(j2-n2)*diagfac[j1,j2]*tmp\n",
    "\n",
    "#                 for k1 in range(4*bigJ+1):\n",
    "#                     for k2 in range(4*bigJ+1):\n",
    "#                         truek1 = k1 - 2*bigJ\n",
    "#                         truek2 = k2 - 2*bigJ\n",
    "#                         if abs(truek1-truer1) <= bigJ and abs(truek2-truer2) <= bigJ:\n",
    "#                             if abs(truej1 + truek1*nL) <= n2 and abs(truej2 + truek2*nL) <= n2:\n",
    "#                                 tmp = psi0[m, j1 + truek1*nL, j2 + truek2*nL]\n",
    "#                                 term21 = theta[truek1-truer1+bigJ,truek2-truer2+bigJ,0]\n",
    "#                                 term22 = theta[truek1-truer1+bigJ,truek2-truer2+bigJ,1]\n",
    "#                                 psi1[m,r1,r2,0] += -lambvalconj*((h*ds)**2)*(j1-n2)*(term21 * truej1 + term22 * truej2)*tmp*diagfac[j1,j2]\n",
    "#                                 psi1[m,r1,r2,1] += -lambvalconj*((h*ds)**2)*(j2-n2)*(term21 * truej1 + term22 * truej2)*tmp*diagfac[j1,j2] \n"
   ]
  },
  {
   "cell_type": "code",
   "execution_count": 22,
   "id": "3a7187dc-f9e6-4cc8-b4c8-e06bc88f28ed",
   "metadata": {},
   "outputs": [],
   "source": [
    "# let us assume that oldlamb is of size (npts, npts)\n",
    "# we need to compute newlamb of the same size\n",
    "\n",
    "@cuda.jit('void(complex128[:,:,:], complex128[:,:,:], complex128[:,:,:], complex128[:,:,:,:], float64[:,:])')\n",
    "def GPUlambda(newlamb, oldlamb, theta, theta2, diagfac):\n",
    "    m, l1, l2 = cuda.grid(3)\n",
    "    if m < batchsize and l1 < npts and l2 < npts:\n",
    "        newlamb[m,l1,l2] = oldlamb[m,l1,l2]*diagfac[l1,l2]\n",
    "        truel1 = l1 - n2\n",
    "        truel2 = l2 - n2\n",
    "        for k1 in range(2*bigJ+1):\n",
    "            for k2 in range(2*bigJ+1):\n",
    "                truek1 = k1 - bigJ\n",
    "                truek2 = k2 - bigJ\n",
    "                ind1 = truel1 - truek1*nL\n",
    "                ind2 = truel2 - truek2*nL\n",
    "                if abs(ind1)<=n2 and abs(ind2)<=n2:\n",
    "                    dd = diagfac[ind1+n2,ind2+n2]\n",
    "                    newlamb[m,l1,l2] += dd*1j*(h*ds)*oldlamb[m,ind1+n2,ind2+n2]*(ind1*theta[k1,k2,0]+ind2*theta[k1,k2,1])\n",
    "        for k1 in range(4*bigJ+1):\n",
    "            for k2 in range(4*bigJ+1):\n",
    "                truek1 = k1 - 2*bigJ\n",
    "                truek2 = k2 - 2*bigJ\n",
    "                ind1 = truel1 - truek1*nL\n",
    "                ind2 = truel2 - truek2*nL\n",
    "                if abs(ind1)<=n2 and abs(ind2)<=n2:\n",
    "                    term211 = theta2[k1, k2, 0, 0]\n",
    "                    term212 = theta2[k1, k2, 0, 1]\n",
    "                    term221 = theta2[k1, k2, 1, 0]\n",
    "                    term222 = theta2[k1, k2, 1, 1]\n",
    "                    dd = diagfac[ind1+n2,ind2+n2]\n",
    "                    newlamb[m,l1,l2] -= dd*0.5*(h*ds)**2*oldlamb[m,ind1+n2,ind2+n2]*(term211*ind1**2 + (term212+term221)*ind1*ind2 + term222*ind2**2)\n"
   ]
  },
  {
   "cell_type": "code",
   "execution_count": 23,
   "id": "882a5aa7-9667-46ac-a20f-e4e3343e550a",
   "metadata": {},
   "outputs": [],
   "source": [
    "@njit(parallel=True)\n",
    "def derivupdate(theta, psi0):\n",
    "    psi1 = np.zeros((batchsize,npts,npts,2*bigJ+1,2*bigJ+1,2), dtype=np.complex128)\n",
    "    for m in prange(batchsize):\n",
    "        for j1 in prange(npts):\n",
    "            for j2 in prange(npts):\n",
    "                j = np.array([j1,j2])\n",
    "                truej1 = j1 - n2\n",
    "                truej2 = j2 - n2\n",
    "                for r1 in range(2*bigJ+1):\n",
    "                    for r2 in range(2*bigJ+1):\n",
    "                        truer1 = r1 - bigJ\n",
    "                        truer2 = r2 - bigJ\n",
    "                        if abs(truej1 + truer1*nL) <= n2 and abs(truej2 + truer2*nL) <= n2:\n",
    "                            tmp = psi0[m, j1 + truer1*nL, j2 + truer2*nL]\n",
    "                            psi1[m,j1,j2,r1,r2,:] += 1j*(h*ds)*(j-n2)*diagfac[j1,j2]*tmp\n",
    "\n",
    "                        for k1 in range(4*bigJ+1):\n",
    "                            for k2 in range(4*bigJ+1):\n",
    "                                truek1 = k1 - 2*bigJ\n",
    "                                truek2 = k2 - 2*bigJ\n",
    "                                if abs(truek1-truer1)<=bigJ and abs(truek2-truer2)<=bigJ:\n",
    "                                    if abs(truej1 + truek1*nL) <= n2 and abs(truej2 + truek2*nL) <= n2:\n",
    "                                        tmp = psi0[m, j1 + truek1*nL, j2 + truek2*nL]\n",
    "                                        term21 = theta[truek1-truer1+bigJ,truek2-truer2+bigJ,0]\n",
    "                                        term22 = theta[truek1-truer1+bigJ,truek2-truer2+bigJ,1]\n",
    "                                        psi1[m,j1,j2,r1,r2,:] += -((h*ds)**2)*(j-n2)*(term21 * truej1 + term22 * truej2)*tmp*diagfac[j1,j2]\n",
    "    return psi1\n",
    "    "
   ]
  },
  {
   "cell_type": "code",
   "execution_count": 24,
   "id": "5f933ba0-7a9c-4cc5-83b1-eb1f736ae76c",
   "metadata": {},
   "outputs": [],
   "source": [
    "# need to minibatch this!\n",
    "# can handle only a certain number of steps at once\n",
    "\n",
    "# adjoint method\n",
    "def MMDadjGPU(theta):\n",
    "    theta2 = np.zeros((4*bigJ+1, 4*bigJ+1, 2, 2), dtype=np.complex128)\n",
    "    for i in range(2):\n",
    "        for j in range(2):\n",
    "            theta2[:,:,i,j] = ss.convolve(theta[:,:,i], theta[:,:,j])\n",
    "    \n",
    "    dtheta = cuda.to_device(theta)\n",
    "    dtheta2 = cuda.to_device(theta2)\n",
    "\n",
    "    threadsperblock = (4,4,4)\n",
    "    blockspergrid_x = int(np.ceil(batchsize / threadsperblock[0]))\n",
    "    blockspergrid_y = int(np.ceil(npts / threadsperblock[1]))\n",
    "    blockspergrid_z = int(np.ceil(npts / threadsperblock[2]))\n",
    "    blockspergrid = (blockspergrid_x, blockspergrid_y, blockspergrid_z)\n",
    "    \n",
    "    # do the entire trajectory sequentially\n",
    "    loss = 0.0\n",
    "    derivmat = np.zeros((2*bigJ+1,2*bigJ+1,2), dtype=np.complex128)   \n",
    "    ddu = cuda.to_device(np.zeros((batchsize, npts, npts, 2*bigJ+1, 2*bigJ+1, 2), dtype=np.complex128))\n",
    "    for batch in range(numbatches):\n",
    "        thisbatch = np.arange(batch*batchsize, (batch+1)*batchsize, dtype=np.int32)\n",
    "        psimat = np.zeros((numsteps+1, batchsize, npts, npts), dtype=np.complex128)\n",
    "        psimat[0,:,:,:] = psi0[thisbatch,:,:]\n",
    "        dpsimat = cuda.to_device(psimat)\n",
    "        \n",
    "        for k in range(numsteps):\n",
    "            updatev2[blockspergrid, threadsperblock](dpsimat[k+1,:,:,:], dpsimat[k,:,:,:], dtheta, dtheta2, ddiagfac)\n",
    "        \n",
    "        resid = dpsimat[-1,:,:,:].copy_to_host() - psitarget[thisbatch,:,:]\n",
    "        loss += 0.5*np.sum(np.square(np.abs(resid)))/(lentraj-1)\n",
    "        \n",
    "        # everybody\n",
    "        lambmat = np.zeros((numsteps+1, batchsize, npts, npts), dtype=np.complex128)\n",
    "        lambmat[numsteps,:,:,:] = resid\n",
    "        dlambmat = cuda.to_device(lambmat)\n",
    "        \n",
    "        for j in range(numsteps,0,-1):\n",
    "            GPUlambda[blockspergrid, threadsperblock](dlambmat[j-1,:,:,:], dlambmat[j,:,:,:], dtheta, dtheta2, ddiagfac)\n",
    "\n",
    "        # now form the derivative\n",
    "        lambmatconj = dlambmat.copy_to_host().conj()\n",
    "        for j in range(numsteps):\n",
    "            du = derivupdate(theta, dpsimat[j,:,:,:].copy_to_host())\n",
    "            derivmat += np.einsum('mab,mabijk->ijk',lambmatconj[j+1,:,:,:],du)/(lentraj-1)\n",
    "        \n",
    "    return loss, derivmat"
   ]
  },
  {
   "cell_type": "code",
   "execution_count": 25,
   "id": "15ff77a6-99cc-4aab-939d-be2e59ad112d",
   "metadata": {},
   "outputs": [],
   "source": [
    "# # therealdu = np.zeros((2*bigJ+1, 2*bigJ+1, 2), dtype=np.complex128)\n",
    "# # ddu = cuda.to_device(np.zeros((batchsize*numsteps, npts, npts), dtype=np.complex128))\n",
    "# # lambtest = np.random.normal(size=batchsize*npts*npts) + 1j*np.random.normal(size=batchsize*npts*npts)\n",
    "# # dlambtest = cuda.to_device(lambtest.reshape((batchsize, npts, npts)))\n",
    "# # psitest = np.random.normal(size=batchsize*npts*npts) + 1j*np.random.normal(size=batchsize*npts*npts)\n",
    "# # dpsitest = cuda.to_device(psitest.reshape((batchsize, npts, npts)))\n",
    "# thetatest = np.random.normal(size=2*(2*bigJ+1)**2) + 1j*np.random.normal(size=2*(2*bigJ+1)**2)\n",
    "# thetatest = thetatest.reshape((2*bigJ+1, 2*bigJ+1, 2))\n",
    "# dthetatest = cuda.to_device(thetatest)"
   ]
  },
  {
   "cell_type": "code",
   "execution_count": 26,
   "id": "ecf0c060-899b-4aa7-b5d5-5099450e1312",
   "metadata": {},
   "outputs": [],
   "source": [
    "# Dthreadsperblock = (16,4,4)\n",
    "# Dblockspergrid_x = int(np.ceil(batchsize / Dthreadsperblock[0]))\n",
    "# Dblockspergrid_y = int(np.ceil(npts / Dthreadsperblock[1]))\n",
    "# Dblockspergrid_z = int(np.ceil(npts / Dthreadsperblock[2]))\n",
    "# Dblockspergrid = (Dblockspergrid_x, Dblockspergrid_y, Dblockspergrid_z)\n"
   ]
  },
  {
   "cell_type": "code",
   "execution_count": 27,
   "id": "c465dbde-5787-4a43-81c6-9a095cfb0bd0",
   "metadata": {},
   "outputs": [],
   "source": [
    "@cuda.reduce\n",
    "def sum_reduce(a, b):\n",
    "    return a + b"
   ]
  },
  {
   "cell_type": "code",
   "execution_count": 28,
   "id": "983d02bb-2ad1-4d0c-9e8c-37205863f199",
   "metadata": {},
   "outputs": [],
   "source": [
    "@cuda.jit('void(complex128[:,:,:,:], complex128[:,:,:], int32)')\n",
    "def myassign(outarr, inarr, ind):\n",
    "    m, j1, j2 = cuda.grid(3)\n",
    "    if m < batchsize and j1 < npts and j2 < npts:\n",
    "        outarr[ind,m,j1,j2] = inarr[m,j1,j2]\n"
   ]
  },
  {
   "cell_type": "code",
   "execution_count": 29,
   "id": "a77abcbf-4e06-42e3-86ae-bfd8eaf6537a",
   "metadata": {},
   "outputs": [],
   "source": [
    "# start = time.time()\n",
    "# for r1 in range(2*bigJ+1):\n",
    "#     for r2 in range(2*bigJ+1):\n",
    "#         for q in range(2):\n",
    "#             derivreduce3[Dblockspergrid, Dthreadsperblock](ddu, dlambtest, dpsitest, dthetatest, ddiagfac, r1, r2, q)\n",
    "#             mysum = sum_reduce(ddu.ravel())\n",
    "#             therealdu[r1, r2, q] += mysum\n",
    "# end = time.time()\n",
    "# print(end-start)"
   ]
  },
  {
   "cell_type": "code",
   "execution_count": 30,
   "id": "faae3b36-f32c-40d8-8bb9-8fffd6ec13e9",
   "metadata": {},
   "outputs": [],
   "source": [
    "# need to minibatch this!\n",
    "# can handle only a certain number of steps at once\n",
    "\n",
    "# adjoint method\n",
    "def MMDadjGPUv2(theta):\n",
    "    theta2 = np.zeros((4*bigJ+1, 4*bigJ+1, 2, 2), dtype=np.complex128)\n",
    "    for i in range(2):\n",
    "        for j in range(2):\n",
    "            theta2[:,:,i,j] = ss.convolve(theta[:,:,i], theta[:,:,j])\n",
    "    \n",
    "    dtheta = cuda.to_device(theta)\n",
    "    dtheta2 = cuda.to_device(theta2)\n",
    "    \n",
    "    threadsperblock = (8,8,8)\n",
    "    blockspergrid_x = int(np.ceil(batchsize / threadsperblock[0]))\n",
    "    blockspergrid_y = int(np.ceil(npts / threadsperblock[1]))\n",
    "    blockspergrid_z = int(np.ceil(npts / threadsperblock[2]))\n",
    "    blockspergrid = (blockspergrid_x, blockspergrid_y, blockspergrid_z)\n",
    "    \n",
    "    Dthreadsperblock = (8,8,8)\n",
    "    Dblockspergrid_x = int(np.ceil(batchsize*numsteps / Dthreadsperblock[0]))\n",
    "    Dblockspergrid_y = int(np.ceil(npts / Dthreadsperblock[1]))\n",
    "    Dblockspergrid_z = int(np.ceil(npts / Dthreadsperblock[2]))\n",
    "    Dblockspergrid = (Dblockspergrid_x, Dblockspergrid_y, Dblockspergrid_z)\n",
    "    \n",
    "    # do the entire trajectory sequentially\n",
    "    loss = 0.0\n",
    "    derivmat = np.zeros((2*bigJ+1,2*bigJ+1,2), dtype=np.complex128)\n",
    "    ddu = cuda.to_device(np.zeros((2,batchsize*numsteps, npts, npts), dtype=np.complex128))\n",
    "    for batch in range(numbatches):\n",
    "        thisbatch = np.arange(batch*batchsize, (batch+1)*batchsize, dtype=np.int32)\n",
    "        psimat = np.zeros((numsteps+1, batchsize, npts, npts), dtype=np.complex128)\n",
    "        psimat[0,:,:,:] = psi0[thisbatch,:,:]\n",
    "        dpsimat = cuda.to_device(psimat)\n",
    "        \n",
    "        # dpsi0 = cuda.to_device(psi0[thisbatch,:,:])\n",
    "        # myassign[blockspergrid, threadsperblock](dpsimat, dpsi0, 0)\n",
    "        \n",
    "        for k in range(numsteps):\n",
    "            updatev2[blockspergrid, threadsperblock](dpsimat[k+1,:,:,:], dpsimat[k,:,:,:], dtheta, dtheta2, ddiagfac)\n",
    "        \n",
    "        psimat = dpsimat.copy_to_host()\n",
    "        resid = psimat[-1,:,:,:] - psitarget[thisbatch,:,:]\n",
    "        loss += 0.5*np.sum(np.square(np.abs(resid)))/(lentraj-1)\n",
    "        \n",
    "        # everybody\n",
    "        lambmat = np.zeros((numsteps+1, batchsize, npts, npts), dtype=np.complex128)\n",
    "        lambmat[numsteps, :, :, :] = resid\n",
    "        dlambmat = cuda.to_device(lambmat)\n",
    "        \n",
    "        # dresid = cuda.to_device(resid)\n",
    "        # myassign[blockspergrid, threadsperblock](dlambmat, dresid, numsteps)\n",
    "        \n",
    "        for j in range(numsteps,0,-1):\n",
    "            GPUlambda[blockspergrid, threadsperblock](dlambmat[j-1,:,:,:], dlambmat[j,:,:,:], dtheta, dtheta2, ddiagfac)\n",
    "        \n",
    "        lambmat = dlambmat.copy_to_host()\n",
    "        alllamb = lambmat[1:,:,:,:].reshape((batchsize*numsteps,npts,npts))\n",
    "        dlambconj = cuda.to_device(np.conj(alllamb))\n",
    "        allpsi = psimat[:-1,:,:,:].reshape((batchsize*numsteps,npts,npts))\n",
    "        dpsi = cuda.to_device(allpsi)\n",
    "        \n",
    "        for r1 in range(2*bigJ+1):\n",
    "            for r2 in range(2*bigJ+1):\n",
    "                # du = CPUderivreduce3(alllamb, allpsi, theta, diagfac, r1, r2)\n",
    "                # derivmat[r1,r2,0] += np.sum(du[0])\n",
    "                # derivmat[r1,r2,1] += np.sum(du[1])\n",
    "                derivreduce3[Dblockspergrid, Dthreadsperblock](ddu, dlambconj, dpsi, dtheta, ddiagfac, r1, r2)\n",
    "                mysum0 = sum_reduce(ddu[0,:,:,:].ravel())\n",
    "                derivmat[r1, r2, 0] += mysum0\n",
    "                mysum1 = sum_reduce(ddu[1,:,:,:].ravel())\n",
    "                derivmat[r1, r2, 1] += mysum1\n",
    "                        \n",
    "            # du = derivupdate(theta, dpsimat[j,:,:,:].copy_to_host())\n",
    "            # du = ddu.copy_to_host()\n",
    "            # derivmat += therealdu\n",
    "        \n",
    "    return loss, derivmat/(lentraj-1)"
   ]
  },
  {
   "cell_type": "code",
   "execution_count": 31,
   "id": "33d3a16e-d821-444d-bbe7-b22c542bafc9",
   "metadata": {},
   "outputs": [],
   "source": [
    "# numparams = 2*(2*bigJ+1)**2\n",
    "\n",
    "# thetarand = 0.1*np.random.normal(size=numparams) + 0.1j*np.random.normal(size=numparams)\n",
    "# thetarand = thetarand.reshape((2*bigJ+1,2*bigJ+1,2))\n",
    "# gloss, gderivmat = MMDadjGPU(thetarand)"
   ]
  },
  {
   "cell_type": "code",
   "execution_count": 32,
   "id": "d76ef3c8-3338-4809-b6a3-105ff5afaf19",
   "metadata": {},
   "outputs": [],
   "source": [
    "# gloss2, gderivmat2 = MMDadjGPUv2(thetarand)"
   ]
  },
  {
   "cell_type": "code",
   "execution_count": 33,
   "id": "66e058d9-e8df-4384-b856-37c4c5ce6352",
   "metadata": {},
   "outputs": [],
   "source": [
    "# print(np.linalg.norm(gderivmat-gderivmat2))"
   ]
  },
  {
   "cell_type": "code",
   "execution_count": 34,
   "id": "f13dfe67-860f-4bea-bbcb-e5ba084ebdef",
   "metadata": {},
   "outputs": [],
   "source": [
    "# def myfdderiv3r(theta, tup, eps):\n",
    "#     epsmat = np.zeros(theta.shape)\n",
    "#     epsmat[tup] = eps\n",
    "#     thetaplus = theta + epsmat\n",
    "#     thetaminus = theta - epsmat\n",
    "#     updateplus = MMDlossGPU(thetaplus)\n",
    "#     updateminus = MMDlossGPU(thetaminus)\n",
    "#     return (updateplus-updateminus)/(2*eps)\n",
    "\n",
    "# def myfdderiv3i(theta, tup, eps):\n",
    "#     epsmat = np.zeros(theta.shape)\n",
    "#     epsmat[tup] = eps\n",
    "#     thetaplus = theta + 1j*epsmat\n",
    "#     thetaminus = theta - 1j*epsmat\n",
    "#     updateplus = MMDlossGPU(thetaplus)\n",
    "#     updateminus = MMDlossGPU(thetaminus)\n",
    "#     return (updateplus-updateminus)/(2*eps)\n",
    "\n",
    "# errR = []\n",
    "# errI = []\n",
    "# for i1 in range(2*bigJ+1):\n",
    "#     for i2 in range(2*bigJ+1):\n",
    "#         for q in range(2):\n",
    "#             thisresR = np.real(gderivmat2[i1,i2,q])\n",
    "#             fdresR = myfdderiv3r(thetarand, (i1,i2,q), 1e-9)\n",
    "#             errR.append(np.abs(thisresR-fdresR))\n",
    "#             thisresI = -np.imag(gderivmat2[i1,i2,q])\n",
    "#             fdresI = myfdderiv3i(thetarand, (i1,i2,q), 1e-9)\n",
    "#             errI.append(np.abs(thisresI-fdresI))\n",
    "\n",
    "# print(np.max(np.abs(np.array(errR))))\n",
    "# print(np.max(np.abs(np.array(errI))))"
   ]
  },
  {
   "cell_type": "code",
   "execution_count": 35,
   "id": "c607d1a0-0685-400f-9635-e0dae2f493cb",
   "metadata": {},
   "outputs": [],
   "source": [
    "# print(gloss)\n",
    "# print(gloss2)\n",
    "# print(test)"
   ]
  },
  {
   "cell_type": "code",
   "execution_count": 36,
   "id": "a9138a50-0a3b-4ea6-a7ab-44956264f6e9",
   "metadata": {},
   "outputs": [],
   "source": [
    "# print(np.mean(np.abs(gderivmat-gderivmat2)))"
   ]
  },
  {
   "cell_type": "code",
   "execution_count": 37,
   "id": "5ba905c2-e03f-4ad4-9446-6de035778c1c",
   "metadata": {},
   "outputs": [],
   "source": [
    "def symmetrize(thetain):\n",
    "    theta = np.copy(thetain)\n",
    "    for truej1 in range(-bigJ, bigJ+1):\n",
    "        for truej2 in range(-bigJ, bigJ+1):\n",
    "            j1 = truej1 + bigJ\n",
    "            j2 = truej2 + bigJ\n",
    "            rj1 = -truej1 + bigJ\n",
    "            rj2 = -truej2 + bigJ\n",
    "            if truej1 + truej2 < 0:\n",
    "                theta[j1, j2, :] = np.conj(theta[rj1, rj2, :])\n",
    "            elif truej1 < 0 and truej2 == -truej1:\n",
    "                theta[j1, j2, :] = np.conj(theta[rj1, rj2, :])\n",
    "    \n",
    "    theta[bigJ, bigJ, :] = np.real(theta[bigJ, bigJ, :])\n",
    "    return theta"
   ]
  },
  {
   "cell_type": "code",
   "execution_count": 38,
   "id": "badb5ffb-d2fd-479e-a2ef-c338b4eea4b0",
   "metadata": {},
   "outputs": [
    {
     "name": "stdout",
     "output_type": "stream",
     "text": [
      "162\n"
     ]
    }
   ],
   "source": [
    "numparams = 2*(2*bigJ+1)**2\n",
    "print(numparams)\n",
    "\n",
    "def objgrad(thetaR):\n",
    "    theta = thetaR[:numparams] + 1j*thetaR[numparams:]\n",
    "    theta = theta.reshape((2*bigJ+1, 2*bigJ+1, 2))\n",
    "    theta = symmetrize(theta)\n",
    "    \n",
    "    obj, grad = MMDadjGPUv2(theta)\n",
    "    grad = symmetrize(grad)\n",
    "    gradR = np.real(grad)\n",
    "    gradI = -np.imag(grad)\n",
    "    outgrad = np.concatenate([gradR.reshape((-1)), gradI.reshape((-1))])\n",
    "    # regularization\n",
    "    mu = 1.0\n",
    "    obj += mu*np.sum(np.abs(thetaR))\n",
    "    outgrad += mu*np.sign(thetaR)\n",
    "    return obj, outgrad\n",
    "\n"
   ]
  },
  {
   "cell_type": "code",
   "execution_count": 39,
   "id": "45a74eab-bc1e-40d8-a973-5baf67d6c444",
   "metadata": {},
   "outputs": [
    {
     "name": "stdout",
     "output_type": "stream",
     "text": [
      "13.244654804719849\n"
     ]
    }
   ],
   "source": [
    "# theta0 = np.load('finallearnedtheta.npz')['learnedtheta']\n",
    "# theta0r = np.concatenate([np.real(theta0.reshape((-1))), np.imag(theta0.reshape((-1)))])\n",
    "\n",
    "theta0r = np.zeros(2*numparams)\n",
    "theta0 = theta0r[:numparams] + 1j*theta0r[numparams:]\n",
    "theta0 = theta0.reshape((2*bigJ+1, 2*bigJ+1, 2))\n",
    "\n",
    "# resx = np.load('trustdblwellCBreg.npz')['learnedtheta']\n",
    "# theta0 = resx[:numparams] + 1j*resx[numparams:]\n",
    "# theta0 = theta0.reshape((2*bigJ+1, 2*bigJ+1, 2))\n",
    "# theta0 = symmetrize(theta0)\n",
    "# theta0r = resx\n",
    "\n",
    "print(MMDlossGPU(theta0))"
   ]
  },
  {
   "cell_type": "code",
   "execution_count": 40,
   "id": "27d88391-a5bf-4663-95ff-7ce246c00685",
   "metadata": {},
   "outputs": [],
   "source": [
    "def mycb(xk, state):\n",
    "    np.savez('trustdblwellCBmorereg.npz',learnedtheta=xk)"
   ]
  },
  {
   "cell_type": "code",
   "execution_count": 41,
   "id": "084e9b8a-c50c-46f6-bf60-b714c9f0bb96",
   "metadata": {},
   "outputs": [],
   "source": [
    "theta0r = np.load('trustdblwellCBmorereg.npz')['learnedtheta']"
   ]
  },
  {
   "cell_type": "code",
   "execution_count": null,
   "id": "f87305fb-1b4f-4648-82f6-160ae2238c19",
   "metadata": {},
   "outputs": [
    {
     "name": "stderr",
     "output_type": "stream",
     "text": [
      "/global/homes/h/hbhat512/.conda/envs/myenv/lib/python3.9/site-packages/numba/cuda/compiler.py:726: NumbaPerformanceWarning: Grid size (64) < 2 * SM count (216) will likely result in GPU under utilization due to low occupancy.\n",
      "  warn(NumbaPerformanceWarning(msg))\n",
      "/global/homes/h/hbhat512/.conda/envs/myenv/lib/python3.9/site-packages/numba/cuda/compiler.py:726: NumbaPerformanceWarning: Grid size (1) < 2 * SM count (216) will likely result in GPU under utilization due to low occupancy.\n",
      "  warn(NumbaPerformanceWarning(msg))\n",
      "/global/homes/h/hbhat512/.conda/envs/myenv/lib/python3.9/site-packages/numba/cuda/compiler.py:726: NumbaPerformanceWarning: Grid size (64) < 2 * SM count (216) will likely result in GPU under utilization due to low occupancy.\n",
      "  warn(NumbaPerformanceWarning(msg))\n"
     ]
    },
    {
     "name": "stdout",
     "output_type": "stream",
     "text": [
      "| niter |f evals|CG iter|  obj func   |tr radius |   opt    |  c viol  |\n",
      "|-------|-------|-------|-------------|----------|----------|----------|\n",
      "|   1   |   1   |   0   | +9.3810e+00 | 6.16e-03 | 1.84e+00 | 0.00e+00 |\n",
      "|   2   |   2   |   1   | +9.3723e+00 | 6.16e-03 | 1.84e+00 | 0.00e+00 |\n",
      "|   3   |   3   |   3   | +9.3368e+00 | 1.23e-02 | 1.82e+00 | 0.00e+00 |\n",
      "|   4   |   4   |   6   | +9.3240e+00 | 1.23e-02 | 1.81e+00 | 0.00e+00 |\n",
      "|   5   |   5   |   7   | +9.3240e+00 | 6.16e-03 | 1.81e+00 | 0.00e+00 |\n"
     ]
    }
   ],
   "source": [
    "res = scipy.optimize.minimize(fun=objgrad, x0=theta0r, jac=True, method='trust-constr', \n",
    "                              hess=scipy.optimize.SR1(), callback=mycb,\n",
    "                              options={'gtol': 1e-3, 'xtol': 1e-3, 'verbose': 2,\n",
    "                                       'initial_tr_radius': 6.16e-3})"
   ]
  },
  {
   "cell_type": "code",
   "execution_count": 43,
   "id": "8f67bf0c-f028-4efe-aac3-8d12fb329cf5",
   "metadata": {},
   "outputs": [],
   "source": [
    "resx = np.load('trustdblwellCBmorereg.npz')['learnedtheta']"
   ]
  },
  {
   "cell_type": "code",
   "execution_count": 44,
   "id": "1538a12c-db5f-481c-bdf4-8f285428e6d2",
   "metadata": {},
   "outputs": [
    {
     "data": {
      "text/plain": [
       "2"
      ]
     },
     "execution_count": 44,
     "metadata": {},
     "output_type": "execute_result"
    }
   ],
   "source": [
    "1+1"
   ]
  },
  {
   "cell_type": "code",
   "execution_count": 45,
   "id": "df8669ba-db06-4b45-8169-cd66ae1db551",
   "metadata": {},
   "outputs": [],
   "source": [
    "learnedtheta = resx[:numparams] + 1j*resx[numparams:]\n",
    "learnedtheta = learnedtheta.reshape((2*bigJ+1, 2*bigJ+1, 2))"
   ]
  },
  {
   "cell_type": "code",
   "execution_count": 46,
   "id": "08ee43bc-470c-4adc-b6da-dfcfb83a17ef",
   "metadata": {},
   "outputs": [
    {
     "data": {
      "text/plain": [
       "0.006947833958514634"
      ]
     },
     "execution_count": 46,
     "metadata": {},
     "output_type": "execute_result"
    }
   ],
   "source": [
    "np.mean(np.abs(learnedtheta - truetheta))"
   ]
  },
  {
   "cell_type": "code",
   "execution_count": 47,
   "id": "abb6e2f4-bdef-4266-811f-756d21e88f8f",
   "metadata": {},
   "outputs": [
    {
     "name": "stdout",
     "output_type": "stream",
     "text": [
      "12.501664301446858\n",
      "2.2230440460779812\n"
     ]
    }
   ],
   "source": [
    "lf1, lf2 = represent(learnedtheta, bigJ)\n",
    "print(np.sum(np.square(np.abs(lf1 - truef1))) * dx**2)\n",
    "print(np.sum(np.square(np.abs(lf2 - truef2))) * dx**2)"
   ]
  },
  {
   "cell_type": "code",
   "execution_count": null,
   "id": "792303f8-5ecf-4980-a020-0177e51672a4",
   "metadata": {},
   "outputs": [],
   "source": [
    "np.savez('trustdblwellFINALmoreregNov13.npz',learnedtheta=learnedtheta)"
   ]
  },
  {
   "cell_type": "code",
   "execution_count": 48,
   "id": "972bb538-f8b2-48d0-9e80-768007207be8",
   "metadata": {},
   "outputs": [
    {
     "name": "stderr",
     "output_type": "stream",
     "text": [
      "/global/homes/h/hbhat512/.conda/envs/myenv/lib/python3.9/site-packages/matplotlib/cbook/__init__.py:1298: ComplexWarning: Casting complex values to real discards the imaginary part\n",
      "  return np.asarray(x, float)\n"
     ]
    },
    {
     "data": {
      "image/png": "[encoded data removed]",
      "text/plain": [
       "<Figure size 640x480 with 1 Axes>"
      ]
     },
     "metadata": {},
     "output_type": "display_data"
    },
    {
     "name": "stderr",
     "output_type": "stream",
     "text": [
      "/global/homes/h/hbhat512/.conda/envs/myenv/lib/python3.9/site-packages/matplotlib/cbook/__init__.py:1298: ComplexWarning: Casting complex values to real discards the imaginary part\n",
      "  return np.asarray(x, float)\n"
     ]
    },
    {
     "data": {
      "image/png": "[encoded data removed]",
      "text/plain": [
       "<Figure size 640x480 with 1 Axes>"
      ]
     },
     "metadata": {},
     "output_type": "display_data"
    }
   ],
   "source": [
    "plt.plot(truef1[:,n2])\n",
    "plt.plot(lf1[:,n2])\n",
    "plt.show()\n",
    "plt.plot(truef2[n2,:])\n",
    "plt.plot(lf2[n2,:])\n",
    "plt.show()"
   ]
  },
  {
   "cell_type": "code",
   "execution_count": 49,
   "id": "7cbf10bc-600f-453f-87f0-38af30317348",
   "metadata": {},
   "outputs": [
    {
     "data": {
      "text/plain": [
       "array([[[-1.74673835e-05-2.15183921e-05j,\n",
       "          2.79138601e-05+7.60080431e-05j],\n",
       "        [ 1.61570591e-05-3.87376889e-05j,\n",
       "          1.33231797e-05+8.55086885e-06j],\n",
       "        [-3.23098185e-05-4.61223620e-05j,\n",
       "          2.18977955e-05-4.01425595e-05j],\n",
       "        [-1.09425929e-05+1.45417636e-05j,\n",
       "         -1.45448413e-05-1.38405729e-04j],\n",
       "        [-4.39675626e-05+3.01988649e-04j,\n",
       "         -5.89726816e-05-3.33109350e-03j],\n",
       "        [ 3.15468692e-06-5.49755274e-05j,\n",
       "          3.07122430e-05-1.79346178e-04j],\n",
       "        [-6.42668482e-06+2.97991258e-03j,\n",
       "          2.14753071e-05-1.46350075e-05j],\n",
       "        [-1.29934096e-05+6.08719161e-03j,\n",
       "         -2.76339197e-05-3.46261691e-03j],\n",
       "        [-1.54286513e-05+6.50154966e-03j,\n",
       "          1.37306106e-05-2.77860430e-03j]],\n",
       "\n",
       "       [[ 9.93596939e-06-3.70002323e-05j,\n",
       "          1.97760502e-05+3.33662666e-05j],\n",
       "        [-1.07398617e-04-2.22152811e-04j,\n",
       "         -3.01116480e-05-9.15652475e-06j],\n",
       "        [ 9.63069703e-05-3.23844234e-03j,\n",
       "          4.97290631e-05-5.80996376e-05j],\n",
       "        [-5.85935789e-06-4.74902158e-05j,\n",
       "         -3.70810696e-05-1.18595845e-04j],\n",
       "        [ 6.88059865e-05-1.11575943e-05j,\n",
       "         -4.16701474e-05-1.14789645e-04j],\n",
       "        [-1.22830721e-05+5.21694204e-03j,\n",
       "          2.02584724e-05-1.03068222e-04j],\n",
       "        [ 1.50176260e-05+9.86840644e-03j,\n",
       "         -4.93012832e-05-1.16823333e-03j],\n",
       "        [-1.58585136e-05+1.04925521e-02j,\n",
       "         -1.19831546e-04-1.29741267e-03j],\n",
       "        [-6.50421179e-06+2.84340865e-03j,\n",
       "         -9.83745942e-05-7.98523972e-03j]],\n",
       "\n",
       "       [[-1.19690515e-05+2.15684807e-05j,\n",
       "          4.02667423e-05+1.97532772e-04j],\n",
       "        [-9.40788635e-05-3.35110264e-04j,\n",
       "         -2.16773801e-05+6.66073303e-04j],\n",
       "        [ 1.25706926e-06-4.82516507e-03j,\n",
       "         -3.97893563e-05+5.74432639e-04j],\n",
       "        [ 8.73450664e-07-1.37266436e-06j,\n",
       "          4.37381357e-05+1.19908138e-02j],\n",
       "        [-1.93440313e-06-1.09824842e-04j,\n",
       "          1.72368539e-05+9.70844706e-02j],\n",
       "        [ 1.30886926e-05+1.72544337e-02j,\n",
       "          3.40031828e-05+4.30479032e-05j],\n",
       "        [-2.70538297e-05+9.55799465e-03j,\n",
       "          4.49765898e-05+3.47307586e-05j],\n",
       "        [-1.53174705e-05+7.85202658e-03j,\n",
       "         -1.75585594e-05-3.20708958e-03j],\n",
       "        [ 8.48224887e-05+6.70151928e-03j,\n",
       "          5.17650841e-05-1.14029668e-02j]],\n",
       "\n",
       "       [[-8.39415178e-05+1.15578435e-04j,\n",
       "          1.72885795e-05+1.56463584e-04j],\n",
       "        [-4.57445014e-05-8.24528869e-03j,\n",
       "          1.36445611e-04+5.73223657e-05j],\n",
       "        [-6.02114950e-06-5.33083009e-04j,\n",
       "          1.63800528e-04+1.79839682e-04j],\n",
       "        [-4.92389224e-05+2.50191183e-04j,\n",
       "          2.27191990e-04+7.66147323e-05j],\n",
       "        [-1.96250424e-05+2.83826796e-03j,\n",
       "         -1.56703910e-04+1.04437115e-04j],\n",
       "        [ 1.86243446e-05+2.25942326e-03j,\n",
       "          1.73334986e-05-2.42801685e-03j],\n",
       "        [-4.91338370e-05+4.47942439e-03j,\n",
       "         -1.02400085e-04-6.28511567e-03j],\n",
       "        [ 1.98207302e-05+5.65637787e-03j,\n",
       "          1.27235936e-05-9.47211823e-03j],\n",
       "        [ 1.83313191e-05+7.49526002e-04j,\n",
       "          5.47059077e-05-1.44352890e-02j]],\n",
       "\n",
       "       [[-1.84979549e-05-6.83905252e-04j,\n",
       "          4.09028022e-05+6.64799890e-04j],\n",
       "        [ 1.46854097e-05+4.65334506e-02j,\n",
       "         -1.24746825e-04+1.25361646e-03j],\n",
       "        [-2.18307767e-05+3.11668116e-01j,\n",
       "         -1.01168525e-05+2.63774369e-05j],\n",
       "        [-2.06706515e-05+3.08510069e-02j,\n",
       "          3.20930442e-05-1.17685830e-04j],\n",
       "        [-2.22979281e-03+0.00000000e+00j,\n",
       "         -4.24034389e-05+0.00000000e+00j],\n",
       "        [-2.06706515e-05-3.08510069e-02j,\n",
       "          3.20930442e-05+1.17685830e-04j],\n",
       "        [-2.18307767e-05-3.11668116e-01j,\n",
       "         -1.01168525e-05-2.63774369e-05j],\n",
       "        [ 1.46854097e-05-4.65334506e-02j,\n",
       "         -1.24746825e-04-1.25361646e-03j],\n",
       "        [-1.84979549e-05+6.83905252e-04j,\n",
       "          4.09028022e-05-6.64799890e-04j]],\n",
       "\n",
       "       [[ 1.83313191e-05-7.49526002e-04j,\n",
       "          5.47059077e-05+1.44352890e-02j],\n",
       "        [ 1.98207302e-05-5.65637787e-03j,\n",
       "          1.27235936e-05+9.47211823e-03j],\n",
       "        [-4.91338370e-05-4.47942439e-03j,\n",
       "         -1.02400085e-04+6.28511567e-03j],\n",
       "        [ 1.86243446e-05-2.25942326e-03j,\n",
       "          1.73334986e-05+2.42801685e-03j],\n",
       "        [-1.96250424e-05-2.83826796e-03j,\n",
       "         -1.56703910e-04-1.04437115e-04j],\n",
       "        [-4.92389224e-05-2.50191183e-04j,\n",
       "          2.27191990e-04-7.66147323e-05j],\n",
       "        [-6.02114950e-06+5.33083009e-04j,\n",
       "          1.63800528e-04-1.79839682e-04j],\n",
       "        [-4.57445014e-05+8.24528869e-03j,\n",
       "          1.36445611e-04-5.73223657e-05j],\n",
       "        [-8.39415178e-05-1.15578435e-04j,\n",
       "          1.72885795e-05-1.56463584e-04j]],\n",
       "\n",
       "       [[ 8.48224887e-05-6.70151928e-03j,\n",
       "          5.17650841e-05+1.14029668e-02j],\n",
       "        [-1.53174705e-05-7.85202658e-03j,\n",
       "         -1.75585594e-05+3.20708958e-03j],\n",
       "        [-2.70538297e-05-9.55799465e-03j,\n",
       "          4.49765898e-05-3.47307586e-05j],\n",
       "        [ 1.30886926e-05-1.72544337e-02j,\n",
       "          3.40031828e-05-4.30479032e-05j],\n",
       "        [-1.93440313e-06+1.09824842e-04j,\n",
       "          1.72368539e-05-9.70844706e-02j],\n",
       "        [ 8.73450664e-07+1.37266436e-06j,\n",
       "          4.37381357e-05-1.19908138e-02j],\n",
       "        [ 1.25706926e-06+4.82516507e-03j,\n",
       "         -3.97893563e-05-5.74432639e-04j],\n",
       "        [-9.40788635e-05+3.35110264e-04j,\n",
       "         -2.16773801e-05-6.66073303e-04j],\n",
       "        [-1.19690515e-05-2.15684807e-05j,\n",
       "          4.02667423e-05-1.97532772e-04j]],\n",
       "\n",
       "       [[-6.50421179e-06-2.84340865e-03j,\n",
       "         -9.83745942e-05+7.98523972e-03j],\n",
       "        [-1.58585136e-05-1.04925521e-02j,\n",
       "         -1.19831546e-04+1.29741267e-03j],\n",
       "        [ 1.50176260e-05-9.86840644e-03j,\n",
       "         -4.93012832e-05+1.16823333e-03j],\n",
       "        [-1.22830721e-05-5.21694204e-03j,\n",
       "          2.02584724e-05+1.03068222e-04j],\n",
       "        [ 6.88059865e-05+1.11575943e-05j,\n",
       "         -4.16701474e-05+1.14789645e-04j],\n",
       "        [-5.85935789e-06+4.74902158e-05j,\n",
       "         -3.70810696e-05+1.18595845e-04j],\n",
       "        [ 9.63069703e-05+3.23844234e-03j,\n",
       "          4.97290631e-05+5.80996376e-05j],\n",
       "        [-1.07398617e-04+2.22152811e-04j,\n",
       "         -3.01116480e-05+9.15652475e-06j],\n",
       "        [ 9.93596939e-06+3.70002323e-05j,\n",
       "          1.97760502e-05-3.33662666e-05j]],\n",
       "\n",
       "       [[-1.54286513e-05-6.50154966e-03j,\n",
       "          1.37306106e-05+2.77860430e-03j],\n",
       "        [-1.29934096e-05-6.08719161e-03j,\n",
       "         -2.76339197e-05+3.46261691e-03j],\n",
       "        [-6.42668482e-06-2.97991258e-03j,\n",
       "          2.14753071e-05+1.46350075e-05j],\n",
       "        [ 3.15468692e-06+5.49755274e-05j,\n",
       "          3.07122430e-05+1.79346178e-04j],\n",
       "        [-4.39675626e-05-3.01988649e-04j,\n",
       "         -5.89726816e-05+3.33109350e-03j],\n",
       "        [-1.09425929e-05-1.45417636e-05j,\n",
       "         -1.45448413e-05+1.38405729e-04j],\n",
       "        [-3.23098185e-05+4.61223620e-05j,\n",
       "          2.18977955e-05+4.01425595e-05j],\n",
       "        [ 1.61570591e-05+3.87376889e-05j,\n",
       "          1.33231797e-05-8.55086885e-06j],\n",
       "        [-1.74673835e-05+2.15183921e-05j,\n",
       "          2.79138601e-05-7.60080431e-05j]]])"
      ]
     },
     "execution_count": 49,
     "metadata": {},
     "output_type": "execute_result"
    }
   ],
   "source": [
    "learnedtheta"
   ]
  },
  {
   "cell_type": "code",
   "execution_count": null,
   "id": "e611edf2-da34-4aa0-a87d-fb9368e21b21",
   "metadata": {},
   "outputs": [],
   "source": []
  }
 ],
 "metadata": {
  "kernelspec": {
   "display_name": "MyEnv",
   "language": "python",
   "name": "myenv"
  },
  "language_info": {
   "codemirror_mode": {
    "name": "ipython",
    "version": 3
   },
   "file_extension": ".py",
   "mimetype": "text/x-python",
   "name": "python",
   "nbconvert_exporter": "python",
   "pygments_lexer": "ipython3",
   "version": "3.9.12"
  }
 },
 "nbformat": 4,
 "nbformat_minor": 5
}
