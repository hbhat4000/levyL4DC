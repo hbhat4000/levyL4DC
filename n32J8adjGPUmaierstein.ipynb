{
 "cells": [
  {
   "cell_type": "code",
   "execution_count": 1,
   "id": "8a13dfee-59aa-4bf8-851c-4d8dd1fc1de5",
   "metadata": {},
   "outputs": [],
   "source": [
    "import os\n",
    "os.environ[\"CUDA_VISIBLE_DEVICES\"]=\"2\"\n",
    "\n",
    "from numba import jit, njit, cuda, prange\n",
    "import numpy as np\n",
    "\n",
    "import matplotlib\n",
    "%matplotlib inline\n",
    "import matplotlib.pyplot as plt\n",
    "\n",
    "import scipy.signal as ss\n",
    "import scipy.integrate as si\n",
    "import scipy.optimize\n",
    "\n",
    "import time"
   ]
  },
  {
   "cell_type": "code",
   "execution_count": 2,
   "id": "fdc9d38f-b087-4211-8e9f-01cc4b5c8c81",
   "metadata": {},
   "outputs": [
    {
     "name": "stdout",
     "output_type": "stream",
     "text": [
      "(10001, 58, 2)\n"
     ]
    }
   ],
   "source": [
    "mctrajlist = []\n",
    "for i in range(100):\n",
    "    fname = '/pscratch/sd/h/hbhat512/maierstein2d/maierstein2d' + str(i+1) + '.dat'\n",
    "    arr = np.fromfile(fname, dtype=np.float64).reshape((-1,2))\n",
    "    if np.sum(np.abs(arr) <= 2*np.pi)==np.prod(np.array(arr.shape)):\n",
    "        mctrajlist.append(arr)\n",
    "\n",
    "mctraj = np.stack(mctrajlist, 1)\n",
    "mctraj = mctraj[::10,:,:]\n",
    "print(mctraj.shape)"
   ]
  },
  {
   "cell_type": "code",
   "execution_count": 3,
   "id": "b6010d7a-8421-4122-b469-75671d4d88e3",
   "metadata": {},
   "outputs": [
    {
     "data": {
      "image/png": "[encoded data removed]",
      "text/plain": [
       "<Figure size 432x288 with 1 Axes>"
      ]
     },
     "metadata": {
      "needs_background": "light"
     },
     "output_type": "display_data"
    }
   ],
   "source": [
    "plt.plot(mctraj[:,2,0],mctraj[:,2,1])\n",
    "plt.show()"
   ]
  },
  {
   "cell_type": "code",
   "execution_count": 4,
   "id": "1642590d-006e-422c-918c-224667dd2817",
   "metadata": {},
   "outputs": [
    {
     "name": "stdout",
     "output_type": "stream",
     "text": [
      "(11, 58, 2)\n"
     ]
    }
   ],
   "source": [
    "dilfac = 1000\n",
    "mctraj = mctraj[::dilfac,:]\n",
    "#plt.plot(mctraj)\n",
    "#plt.show()\n",
    "numtraj = mctraj.shape[1]\n",
    "lentraj = mctraj.shape[0]\n",
    "print(mctraj.shape)"
   ]
  },
  {
   "cell_type": "code",
   "execution_count": 5,
   "id": "77af9e3e-f1c3-45a9-bf4d-d897fbe05c80",
   "metadata": {},
   "outputs": [
    {
     "name": "stdout",
     "output_type": "stream",
     "text": [
      "[0.0625, -2.0, 2.0]\n"
     ]
    }
   ],
   "source": [
    "# time step of the data\n",
    "deltat = 0.001*dilfac\n",
    "\n",
    "# crucial parameter that sets internal time step\n",
    "numsteps = dilfac\n",
    "h = deltat/numsteps\n",
    "\n",
    "# constant diffusion\n",
    "g = 1.0\n",
    "\n",
    "# levy alpha parameter\n",
    "alpha = 1.5\n",
    "\n",
    "# take L = 2\n",
    "bigL = 2\n",
    "\n",
    "# set n2, number of points to the left of the origin\n",
    "n2 = 32\n",
    "npts = 2*n2 + 1\n",
    "nplot = npts\n",
    "xplot = np.linspace(-bigL*np.pi, bigL*np.pi, nplot+1)\n",
    "xplot = xplot[:nplot]\n",
    "xp1, xp2 = np.meshgrid(xplot, xplot)\n",
    "\n",
    "# number of modes to keep track of in theta\n",
    "# used bigJ = 4 for sin2d\n",
    "bigJ = 8\n",
    "\n",
    "# take n_L = 2\n",
    "nL = 8\n",
    "ds = 1.0/(bigL*nL)\n",
    "uvec = np.arange(-n2,n2+1)*ds\n",
    "umin = np.amin(uvec)\n",
    "umax = np.amax(uvec)\n",
    "\n",
    "U1, U2 = np.meshgrid(uvec, uvec)\n",
    "\n",
    "print([ds, umin, umax])\n"
   ]
  },
  {
   "cell_type": "code",
   "execution_count": 6,
   "id": "7e30c6d6-2248-4d61-b7ac-1a8b5b49f534",
   "metadata": {},
   "outputs": [],
   "source": [
    "# now construct f on a plotting grid\n",
    "@njit\n",
    "def represent(theta, JJ):\n",
    "    f1 = np.zeros((nplot, nplot), dtype=np.complex128)\n",
    "    f2 = np.zeros((nplot, nplot), dtype=np.complex128)    \n",
    "    modes = np.arange(-JJ,JJ+1)/bigL\n",
    "    for j1 in range(2*JJ+1):\n",
    "        for j2 in range(2*JJ+1):\n",
    "            f1 += theta[j1, j2, 0]*np.exp(1j*(xp1*modes[j1] + xp2*modes[j2]))\n",
    "            f2 += theta[j1, j2, 1]*np.exp(1j*(xp1*modes[j1] + xp2*modes[j2]))\n",
    "    \n",
    "    return f1, f2\n",
    "\n",
    "# now construct f on a plotting grid\n",
    "# low-dimensional version\n",
    "@njit\n",
    "def LDrepresent(theta, JJ):\n",
    "    f1 = np.zeros((nplot, nplot), dtype=np.complex128)\n",
    "    f2 = np.zeros((nplot, nplot), dtype=np.complex128)\n",
    "    modes = np.arange(-JJ,JJ+1)/bigL\n",
    "    for j2 in range(2*JJ+1):\n",
    "        f1 += theta[JJ, j2, 0]*np.exp(1j*(xp1*modes[JJ] + xp2*modes[j2]))\n",
    "    \n",
    "    for j1 in range(2*JJ+1):\n",
    "        f2 += theta[j1, JJ, 1]*np.exp(1j*(xp1*modes[j1] + xp2*modes[JJ]))\n",
    "    \n",
    "    return f1, f2"
   ]
  },
  {
   "cell_type": "code",
   "execution_count": 7,
   "id": "631c6788-29df-4605-ab08-96c8f5efe7d4",
   "metadata": {},
   "outputs": [],
   "source": [
    "# @njit(parallel=True)\n",
    "# def empiricalcharfun(mc):\n",
    "#     sig2 = 0.0 # 0.05**2\n",
    "#     psi = np.zeros((numtraj,lentraj,npts,npts), dtype=np.complex128)\n",
    "#     for kk in prange(lentraj):\n",
    "#         for ii in prange(npts):\n",
    "#             for jj in prange(npts):\n",
    "#                 psi[:,kk,ii,jj] = np.exp(1j*(uvec[ii]*mc[kk,:,0]+uvec[jj]*mc[kk,:,1])- 0.5*sig2*(uvec[ii]**2 + uvec[jj]**2))\n",
    "#     return psi\n",
    "\n",
    "@njit(parallel=True)\n",
    "def empiricalcharfun(mc):\n",
    "    psi = np.zeros((lentraj,npts,npts), dtype=np.complex128)\n",
    "    for kk in prange(lentraj):\n",
    "        for ii in prange(npts):\n",
    "            for jj in prange(npts):\n",
    "                psi[kk,ii,jj] = np.mean(np.exp(1j*(uvec[ii]*mc[kk,:,0]+uvec[jj]*mc[kk,:,1])))\n",
    "    return psi"
   ]
  },
  {
   "cell_type": "code",
   "execution_count": 8,
   "id": "e21f48e4-9d4e-40f8-98e6-ffe3511c155d",
   "metadata": {},
   "outputs": [
    {
     "name": "stdout",
     "output_type": "stream",
     "text": [
      "(11, 65, 65)\n",
      "(10, 65, 65)\n",
      "(10, 65, 65)\n",
      "1\n",
      "10\n",
      "(65, 65)\n"
     ]
    }
   ],
   "source": [
    "psiall = empiricalcharfun(mctraj)\n",
    "print(psiall.shape)\n",
    "\n",
    "# initial char fun\n",
    "# psi0 = psiall[:,:-1,:,:].reshape((-1,npts,npts))\n",
    "psi0 = psiall[:-1,:,:].reshape((-1,npts,npts))\n",
    "print(psi0.shape)\n",
    "\n",
    "# target char fun\n",
    "# psitarget = psiall[:,1:,:,:].reshape((-1,npts,npts))\n",
    "psitarget = psiall[1:,:,:].reshape((-1,npts,npts))\n",
    "print(psitarget.shape)\n",
    "\n",
    "# first axis in newpsi and oldpsi refers to the batching dimension\n",
    "lentraj = psi0.shape[0]\n",
    "batchsize = 10\n",
    "numbatches = int(np.ceil(lentraj/batchsize))\n",
    "print(numbatches)\n",
    "print(numbatches*batchsize)\n",
    "\n",
    "# need this guy to propagate\n",
    "diagfac = np.exp(-h*np.abs((U1 + U2)*g)**alpha)\n",
    "print(diagfac.shape)\n",
    "\n",
    "ddiagfac = cuda.to_device(diagfac)"
   ]
  },
  {
   "cell_type": "code",
   "execution_count": 9,
   "id": "be480814-1b53-4647-9f8d-35adf54b0ce0",
   "metadata": {},
   "outputs": [],
   "source": [
    "@cuda.jit('void(complex128[:,:,:], complex128[:,:,:], complex128[:,:,:], complex128[:,:,:,:], float64[:,:], int32)')\n",
    "def update(newpsi, oldpsi, dtheta, dtheta2, ddiagfac, tbatchsize):\n",
    "    m, j1, j2 = cuda.grid(3)\n",
    "    if m < tbatchsize and j1 < npts and j2 < npts:\n",
    "        term11 = 0.0\n",
    "        term12 = 0.0\n",
    "        truej1 = j1 - n2\n",
    "        truej2 = j2 - n2\n",
    "        for jp1 in range(2*bigJ+1):\n",
    "            for jp2 in range(2*bigJ+1):\n",
    "                if abs(truej1 + (jp1-bigJ)*nL) <= n2 and abs(truej2 + (jp2-bigJ)*nL) <= n2:\n",
    "                    tmp = oldpsi[m, j1 + (jp1-bigJ)*nL, j2 + (jp2-bigJ)*nL]\n",
    "                    term11 += dtheta[jp1, jp2, 0]*tmp\n",
    "                    term12 += dtheta[jp1, jp2, 1]*tmp\n",
    "                    \n",
    "        term211 = 0.0\n",
    "        term212 = 0.0\n",
    "        term221 = 0.0\n",
    "        term222 = 0.0\n",
    "        for k1 in range(4*bigJ+1):\n",
    "            for k2 in range(4*bigJ+1):\n",
    "                if abs(truej1 + (k1-2*bigJ)*nL) <= n2 and abs(truej2 + (k2-2*bigJ)*nL) <= n2:\n",
    "                    tmp = oldpsi[m, j1 + (k1-2*bigJ)*nL, j2 + (k2-2*bigJ)*nL]\n",
    "                    term211 += dtheta2[k1, k2, 0, 0]*tmp\n",
    "                    term212 += dtheta2[k1, k2, 0, 1]*tmp\n",
    "                    term221 += dtheta2[k1, k2, 1, 0]*tmp\n",
    "                    term222 += dtheta2[k1, k2, 1, 1]*tmp\n",
    "        newpsi[m, j1, j2] += 1j*(h*ds)*(truej1*term11 + truej2*term12)\n",
    "        newpsi[m, j1, j2] += -0.5*((h*ds)**2)*(term211*truej1**2 + (term212+term221)*truej1*truej2 + term222*truej2**2)\n",
    "        newpsi[m, j1, j2] *= ddiagfac[j1, j2] # math.exp(-h*ds*g*abs(truej1+truej2)**alpha)"
   ]
  },
  {
   "cell_type": "code",
   "execution_count": 10,
   "id": "b90cffae-1154-47ab-8b39-53f4558022ae",
   "metadata": {},
   "outputs": [],
   "source": [
    "@cuda.jit\n",
    "def copyover(newpsi, oldpsi, tbatchsize):\n",
    "    m, i, j = cuda.grid(3)\n",
    "    if m < tbatchsize and i < npts and j < npts:\n",
    "        oldpsi[m,i,j] = newpsi[m,i,j]"
   ]
  },
  {
   "cell_type": "code",
   "execution_count": 11,
   "id": "46b17272-d429-4d6d-a3c1-9fc9e674b4ac",
   "metadata": {},
   "outputs": [],
   "source": [
    "def MMDlossGPU(theta):\n",
    "    theta2 = np.zeros((4*bigJ+1, 4*bigJ+1, 2, 2), dtype=np.complex128)\n",
    "    for i in range(2):\n",
    "        for j in range(2):\n",
    "            theta2[:,:,i,j] = ss.convolve(theta[:,:,i], theta[:,:,j])\n",
    "    \n",
    "    dtheta = cuda.to_device(theta)\n",
    "    dtheta2 = cuda.to_device(theta2)\n",
    "    \n",
    "    threadsperblock = (8,8,8) # try 8, 10, 10\n",
    "    blockspergrid_x = int(np.ceil(batchsize / threadsperblock[0]))\n",
    "    blockspergrid_y = int(np.ceil(npts / threadsperblock[1]))\n",
    "    blockspergrid_z = int(np.ceil(npts / threadsperblock[2]))\n",
    "    blockspergrid = (blockspergrid_x, blockspergrid_y, blockspergrid_z)\n",
    "    \n",
    "    loss = 0.0\n",
    "    for batch in range(numbatches):\n",
    "        if batch==(numbatches-1):\n",
    "            thisbatch = np.arange(batch*batchsize, lentraj, dtype=np.int32)\n",
    "            tbatchsize = lentraj - (batch*batchsize)\n",
    "        else:\n",
    "            thisbatch = np.arange(batch*batchsize, (batch+1)*batchsize, dtype=np.int32)\n",
    "            tbatchsize = batchsize\n",
    "        print([thisbatch[0], thisbatch[-1]])\n",
    "        doldpsi = cuda.to_device(psi0[thisbatch,:,:])\n",
    "        dnewpsi = cuda.to_device(psi0[thisbatch,:,:])\n",
    "        for k in range(numsteps):\n",
    "            update[blockspergrid, threadsperblock](dnewpsi, doldpsi, dtheta, dtheta2, ddiagfac, tbatchsize)\n",
    "            copyover[blockspergrid, threadsperblock](dnewpsi, doldpsi, tbatchsize)\n",
    "        psifinal = dnewpsi.copy_to_host() \n",
    "        loss += 0.5*np.sum(np.square(np.abs(psifinal - psitarget[thisbatch,:,:])))\n",
    "    \n",
    "    return loss/(lentraj-1)"
   ]
  },
  {
   "cell_type": "code",
   "execution_count": 12,
   "id": "133ba7e0-4e1d-4a51-9ac7-f2352a8c98aa",
   "metadata": {},
   "outputs": [],
   "source": [
    "@cuda.jit('void(complex128[:,:,:], complex128[:,:,:], complex128[:,:,:], complex128[:,:,:,:], float64[:,:], int32)')\n",
    "def updatev2(newpsi, oldpsi, dtheta, dtheta2, ddiagfac, tbatchsize):\n",
    "    m, j1, j2 = cuda.grid(3)\n",
    "    if m < tbatchsize and j1 < npts and j2 < npts:\n",
    "        term11 = 0.0\n",
    "        term12 = 0.0\n",
    "        truej1 = j1 - n2\n",
    "        truej2 = j2 - n2\n",
    "        for jp1 in range(2*bigJ+1):\n",
    "            for jp2 in range(2*bigJ+1):\n",
    "                if abs(truej1 + (jp1-bigJ)*nL) <= n2 and abs(truej2 + (jp2-bigJ)*nL) <= n2:\n",
    "                    tmp = oldpsi[m, j1 + (jp1-bigJ)*nL, j2 + (jp2-bigJ)*nL]\n",
    "                    term11 += dtheta[jp1, jp2, 0]*tmp\n",
    "                    term12 += dtheta[jp1, jp2, 1]*tmp\n",
    "                    \n",
    "        term211 = 0.0\n",
    "        term212 = 0.0\n",
    "        term221 = 0.0\n",
    "        term222 = 0.0\n",
    "        for k1 in range(4*bigJ+1):\n",
    "            for k2 in range(4*bigJ+1):\n",
    "                if abs(truej1 + (k1-2*bigJ)*nL) <= n2 and abs(truej2 + (k2-2*bigJ)*nL) <= n2:\n",
    "                    tmp = oldpsi[m, j1 + (k1-2*bigJ)*nL, j2 + (k2-2*bigJ)*nL]\n",
    "                    term211 += dtheta2[k1, k2, 0, 0]*tmp\n",
    "                    term212 += dtheta2[k1, k2, 0, 1]*tmp\n",
    "                    term221 += dtheta2[k1, k2, 1, 0]*tmp\n",
    "                    term222 += dtheta2[k1, k2, 1, 1]*tmp\n",
    "        newpsi[m, j1, j2] = oldpsi[m, j1, j2]\n",
    "        newpsi[m, j1, j2] += 1j*(h*ds)*(truej1*term11 + truej2*term12)\n",
    "        newpsi[m, j1, j2] += -0.5*((h*ds)**2)*(term211*truej1**2 + (term212+term221)*truej1*truej2 + term222*truej2**2)\n",
    "        newpsi[m, j1, j2] *= ddiagfac[j1, j2] # math.exp(-h*ds*g*abs(truej1+truej2)**alpha)"
   ]
  },
  {
   "cell_type": "code",
   "execution_count": 13,
   "id": "3a7187dc-f9e6-4cc8-b4c8-e06bc88f28ed",
   "metadata": {},
   "outputs": [],
   "source": [
    "# let us assume that oldlamb is of size (npts, npts)\n",
    "# we need to compute newlamb of the same size\n",
    "\n",
    "@cuda.jit('void(complex128[:,:,:], complex128[:,:,:], complex128[:,:,:], complex128[:,:,:,:], float64[:,:], int32)')\n",
    "def GPUlambda(newlamb, oldlamb, theta, theta2, diagfac, tbatchsize):\n",
    "    m, l1, l2 = cuda.grid(3)\n",
    "    if m < tbatchsize and l1 < npts and l2 < npts:\n",
    "        newlamb[m,l1,l2] = oldlamb[m,l1,l2]*diagfac[l1,l2]\n",
    "        truel1 = l1 - n2\n",
    "        truel2 = l2 - n2\n",
    "        for k1 in range(2*bigJ+1):\n",
    "            for k2 in range(2*bigJ+1):\n",
    "                truek1 = k1 - bigJ\n",
    "                truek2 = k2 - bigJ\n",
    "                ind1 = truel1 - truek1*nL\n",
    "                ind2 = truel2 - truek2*nL\n",
    "                if abs(ind1)<=n2 and abs(ind2)<=n2:\n",
    "                    dd = diagfac[ind1+n2,ind2+n2]\n",
    "                    newlamb[m,l1,l2] += dd*1j*(h*ds)*oldlamb[m,ind1+n2,ind2+n2]*(ind1*theta[k1,k2,0]+ind2*theta[k1,k2,1])\n",
    "        for k1 in range(4*bigJ+1):\n",
    "            for k2 in range(4*bigJ+1):\n",
    "                truek1 = k1 - 2*bigJ\n",
    "                truek2 = k2 - 2*bigJ\n",
    "                ind1 = truel1 - truek1*nL\n",
    "                ind2 = truel2 - truek2*nL\n",
    "                if abs(ind1)<=n2 and abs(ind2)<=n2:\n",
    "                    term211 = theta2[k1, k2, 0, 0]\n",
    "                    term212 = theta2[k1, k2, 0, 1]\n",
    "                    term221 = theta2[k1, k2, 1, 0]\n",
    "                    term222 = theta2[k1, k2, 1, 1]\n",
    "                    dd = diagfac[ind1+n2,ind2+n2]\n",
    "                    newlamb[m,l1,l2] -= dd*0.5*(h*ds)**2*oldlamb[m,ind1+n2,ind2+n2]*(term211*ind1**2 + (term212+term221)*ind1*ind2 + term222*ind2**2)\n"
   ]
  },
  {
   "cell_type": "code",
   "execution_count": 14,
   "id": "e9d189c1-47c2-4a65-ad64-6167416d4dcb",
   "metadata": {},
   "outputs": [],
   "source": [
    "@cuda.jit('void(complex128[:,:,:,:], complex128[:,:,:], complex128[:,:,:], complex128[:,:,:], float64[:,:], int32, int32, int32)')\n",
    "def derivreduce3(psi1, lamb0conj, psi0, theta, diagfac, r1, r2, tbatchsize):\n",
    "    m, j1, j2 = cuda.grid(3)\n",
    "    if m < tbatchsize*numsteps and j1 < npts and j2 < npts:\n",
    "        out0 = 0.0\n",
    "        out1 = 0.0\n",
    "        truej1 = j1 - n2\n",
    "        truej2 = j2 - n2\n",
    "        lambvalconj = lamb0conj[m, j1, j2]\n",
    "        truer1 = r1 - bigJ\n",
    "        truer2 = r2 - bigJ\n",
    "        if abs(truej1 + truer1*nL) <= n2 and abs(truej2 + truer2*nL) <= n2:\n",
    "            tmp = psi0[m, j1 + truer1*nL, j2 + truer2*nL]\n",
    "            overall = lambvalconj*1j*(h*ds)*diagfac[j1,j2]*tmp\n",
    "            out0 += overall*truej1\n",
    "            out1 += overall*truej2\n",
    "\n",
    "        for k1 in range(4*bigJ+1):\n",
    "            for k2 in range(4*bigJ+1):\n",
    "                truek1 = k1 - 2*bigJ\n",
    "                truek2 = k2 - 2*bigJ\n",
    "                if abs(truek1-truer1) <= bigJ and abs(truek2-truer2) <= bigJ:\n",
    "                    if abs(truej1 + truek1*nL) <= n2 and abs(truej2 + truek2*nL) <= n2:\n",
    "                        tmp2 = psi0[m, j1 + truek1*nL, j2 + truek2*nL]\n",
    "                        term21 = theta[truek1-truer1+bigJ,truek2-truer2+bigJ,0]\n",
    "                        term22 = theta[truek1-truer1+bigJ,truek2-truer2+bigJ,1]\n",
    "                        overall2 = -lambvalconj*((h*ds)**2)*(term21 * truej1 + term22 * truej2)*tmp2*diagfac[j1,j2]\n",
    "                        out0 += overall2*truej1\n",
    "                        out1 += overall2*truej2\n",
    "        \n",
    "        psi1[0,m,j1,j2] = out0\n",
    "        psi1[1,m,j1,j2] = out1"
   ]
  },
  {
   "cell_type": "code",
   "execution_count": 15,
   "id": "c465dbde-5787-4a43-81c6-9a095cfb0bd0",
   "metadata": {},
   "outputs": [],
   "source": [
    "@cuda.reduce\n",
    "def sum_reduce(a, b):\n",
    "    return a + b"
   ]
  },
  {
   "cell_type": "code",
   "execution_count": 16,
   "id": "983d02bb-2ad1-4d0c-9e8c-37205863f199",
   "metadata": {},
   "outputs": [],
   "source": [
    "@cuda.jit('void(complex128[:,:,:,:], complex128[:,:,:], int32)')\n",
    "def myassign(outarr, inarr, ind):\n",
    "    m, j1, j2 = cuda.grid(3)\n",
    "    if m < batchsize and j1 < npts and j2 < npts:\n",
    "        outarr[ind,m,j1,j2] = inarr[m,j1,j2]\n"
   ]
  },
  {
   "cell_type": "code",
   "execution_count": 17,
   "id": "faae3b36-f32c-40d8-8bb9-8fffd6ec13e9",
   "metadata": {},
   "outputs": [],
   "source": [
    "# need to minibatch this!\n",
    "# can handle only a certain number of steps at once\n",
    "\n",
    "# adjoint method\n",
    "def MMDadjGPUv2(theta):\n",
    "    theta2 = np.zeros((4*bigJ+1, 4*bigJ+1, 2, 2), dtype=np.complex128)\n",
    "    for i in range(2):\n",
    "        for j in range(2):\n",
    "            theta2[:,:,i,j] = ss.convolve(theta[:,:,i], theta[:,:,j])\n",
    "    \n",
    "    dtheta = cuda.to_device(theta)\n",
    "    dtheta2 = cuda.to_device(theta2)\n",
    "    \n",
    "    threadsperblock = (8,8,8)\n",
    "    blockspergrid_x = int(np.ceil(batchsize / threadsperblock[0]))\n",
    "    blockspergrid_y = int(np.ceil(npts / threadsperblock[1]))\n",
    "    blockspergrid_z = int(np.ceil(npts / threadsperblock[2]))\n",
    "    blockspergrid = (blockspergrid_x, blockspergrid_y, blockspergrid_z)\n",
    "    \n",
    "    Dthreadsperblock = (8,8,8)\n",
    "    Dblockspergrid_x = int(np.ceil(batchsize*numsteps / Dthreadsperblock[0]))\n",
    "    Dblockspergrid_y = int(np.ceil(npts / Dthreadsperblock[1]))\n",
    "    Dblockspergrid_z = int(np.ceil(npts / Dthreadsperblock[2]))\n",
    "    Dblockspergrid = (Dblockspergrid_x, Dblockspergrid_y, Dblockspergrid_z)\n",
    "    \n",
    "    # do the entire trajectory sequentially\n",
    "    loss = 0.0\n",
    "    derivmat = np.zeros((2*bigJ+1,2*bigJ+1,2), dtype=np.complex128)\n",
    "    for batch in range(numbatches):\n",
    "        if batch==(numbatches-1):\n",
    "            thisbatch = np.arange(batch*batchsize, lentraj, dtype=np.int32)\n",
    "            tbatchsize = lentraj - batch*batchsize\n",
    "        else:\n",
    "            thisbatch = np.arange(batch*batchsize, (batch+1)*batchsize, dtype=np.int32)\n",
    "            tbatchsize = batchsize\n",
    "        ddu = cuda.to_device(np.zeros((2,tbatchsize*numsteps, npts, npts), dtype=np.complex128))\n",
    "        psimat = np.zeros((numsteps+1, tbatchsize, npts, npts), dtype=np.complex128)\n",
    "        psimat[0,:,:,:] = psi0[thisbatch,:,:]\n",
    "        dpsimat = cuda.to_device(psimat)\n",
    "        \n",
    "        # dpsi0 = cuda.to_device(psi0[thisbatch,:,:])\n",
    "        # myassign[blockspergrid, threadsperblock](dpsimat, dpsi0, 0)\n",
    "        \n",
    "        for k in range(numsteps):\n",
    "            updatev2[blockspergrid, threadsperblock](dpsimat[k+1,:,:,:], dpsimat[k,:,:,:], dtheta, dtheta2, ddiagfac, tbatchsize)\n",
    "        \n",
    "        psimat = dpsimat.copy_to_host()\n",
    "        resid = psimat[-1,:,:,:] - psitarget[thisbatch,:,:]\n",
    "        loss += 0.5*np.sum(np.square(np.abs(resid)))/(lentraj-1)\n",
    "        \n",
    "        # everybody\n",
    "        lambmat = np.zeros((numsteps+1, tbatchsize, npts, npts), dtype=np.complex128)\n",
    "        lambmat[numsteps, :, :, :] = resid\n",
    "        dlambmat = cuda.to_device(lambmat)\n",
    "        \n",
    "        # dresid = cuda.to_device(resid)\n",
    "        # myassign[blockspergrid, threadsperblock](dlambmat, dresid, numsteps)\n",
    "        \n",
    "        for j in range(numsteps,0,-1):\n",
    "            GPUlambda[blockspergrid, threadsperblock](dlambmat[j-1,:,:,:], dlambmat[j,:,:,:], dtheta, dtheta2, ddiagfac, tbatchsize)\n",
    "        \n",
    "        lambmat = dlambmat.copy_to_host()\n",
    "        alllamb = lambmat[1:,:,:,:].reshape((tbatchsize*numsteps,npts,npts))\n",
    "        dlambconj = cuda.to_device(np.conj(alllamb))\n",
    "        allpsi = psimat[:-1,:,:,:].reshape((tbatchsize*numsteps,npts,npts))\n",
    "        dpsi = cuda.to_device(allpsi)\n",
    "        \n",
    "        for r1 in range(2*bigJ+1):\n",
    "            for r2 in range(2*bigJ+1):\n",
    "                # du = CPUderivreduce3(alllamb, allpsi, theta, diagfac, r1, r2)\n",
    "                # derivmat[r1,r2,0] += np.sum(du[0])\n",
    "                # derivmat[r1,r2,1] += np.sum(du[1])\n",
    "                derivreduce3[Dblockspergrid, Dthreadsperblock](ddu, dlambconj, dpsi, dtheta, ddiagfac, r1, r2, tbatchsize)\n",
    "                mysum0 = sum_reduce(ddu[0,:,:,:].ravel())\n",
    "                derivmat[r1, r2, 0] += mysum0\n",
    "                mysum1 = sum_reduce(ddu[1,:,:,:].ravel())\n",
    "                derivmat[r1, r2, 1] += mysum1\n",
    "                        \n",
    "            # du = derivupdate(theta, dpsimat[j,:,:,:].copy_to_host())\n",
    "            # du = ddu.copy_to_host()\n",
    "            # derivmat += therealdu\n",
    "        \n",
    "    return loss, derivmat/(lentraj-1)"
   ]
  },
  {
   "cell_type": "code",
   "execution_count": 18,
   "id": "5ba905c2-e03f-4ad4-9446-6de035778c1c",
   "metadata": {},
   "outputs": [],
   "source": [
    "def symmetrize(thetain):\n",
    "    theta = np.copy(thetain)\n",
    "    for truej1 in range(-bigJ, bigJ+1):\n",
    "        for truej2 in range(-bigJ, bigJ+1):\n",
    "            j1 = truej1 + bigJ\n",
    "            j2 = truej2 + bigJ\n",
    "            rj1 = -truej1 + bigJ\n",
    "            rj2 = -truej2 + bigJ\n",
    "            if truej1 + truej2 < 0:\n",
    "                theta[j1, j2, :] = np.conj(theta[rj1, rj2, :])\n",
    "            elif truej1 < 0 and truej2 == -truej1:\n",
    "                theta[j1, j2, :] = np.conj(theta[rj1, rj2, :])\n",
    "    \n",
    "    theta[bigJ, bigJ, :] = np.real(theta[bigJ, bigJ, :])\n",
    "    return theta"
   ]
  },
  {
   "cell_type": "code",
   "execution_count": 19,
   "id": "81c14119-d903-4031-a285-4aa1f2bb2c24",
   "metadata": {},
   "outputs": [],
   "source": [
    "def enforceevenodd(thetain):\n",
    "    theta = np.copy(thetain)\n",
    "    # want the :,:,0 component to be odd in x, even in y\n",
    "    theta[bigJ, :, 0] = 0.0\n",
    "    for truej1 in range(-bigJ, 0):\n",
    "        for truej2 in range(-bigJ, -1):\n",
    "            j1 = truej1 + bigJ\n",
    "            j2 = truej2 + bigJ\n",
    "            rj1 = -truej1 + bigJ\n",
    "            rj2 = -truej2 + bigJ\n",
    "            theta[rj1, j2, 0] = -theta[j1, j2, 0]\n",
    "            theta[rj1, rj2, 0] = -theta[j1, j2, 0]\n",
    "            theta[j1, rj2, 0] = theta[j1, j2, 0]\n",
    "    \n",
    "    # want the :,:,1 component to be even in x, odd in y\n",
    "    theta[:, bigJ, 1] = 0.0\n",
    "    for truej1 in range(-bigJ, -1):\n",
    "        for truej2 in range(-bigJ, 0):\n",
    "            j1 = truej1 + bigJ\n",
    "            j2 = truej2 + bigJ\n",
    "            rj1 = -truej1 + bigJ\n",
    "            rj2 = -truej2 + bigJ\n",
    "            theta[rj1, j2, 1] = theta[j1, j2, 1]\n",
    "            theta[rj1, rj2, 1] = -theta[j1, j2, 1]\n",
    "            theta[j1, rj2, 1] = -theta[j1, j2, 1]\n",
    "    \n",
    "    return theta"
   ]
  },
  {
   "cell_type": "code",
   "execution_count": 20,
   "id": "badb5ffb-d2fd-479e-a2ef-c338b4eea4b0",
   "metadata": {},
   "outputs": [
    {
     "name": "stdout",
     "output_type": "stream",
     "text": [
      "578\n"
     ]
    }
   ],
   "source": [
    "numparams = 2*(2*bigJ+1)**2\n",
    "print(numparams)\n",
    "\n",
    "def objgrad(thetaR):\n",
    "    theta = thetaR[:numparams] + 1j*thetaR[numparams:]\n",
    "    theta = theta.reshape((2*bigJ+1, 2*bigJ+1, 2))\n",
    "    theta = enforceevenodd(symmetrize(theta))\n",
    "    \n",
    "    obj, grad = MMDadjGPUv2(theta)\n",
    "    grad = symmetrize(grad)\n",
    "    gradR = np.real(grad)\n",
    "    gradI = -np.imag(grad)\n",
    "    outgrad = np.concatenate([gradR.reshape((-1)), gradI.reshape((-1))])\n",
    "    # regularization\n",
    "    mu = 1.0\n",
    "    obj += mu*np.sum(np.abs(thetaR))\n",
    "    outgrad += mu*np.sign(thetaR)\n",
    "    return obj, outgrad\n",
    "\n"
   ]
  },
  {
   "cell_type": "code",
   "execution_count": 59,
   "id": "45a74eab-bc1e-40d8-a973-5baf67d6c444",
   "metadata": {},
   "outputs": [],
   "source": [
    "# theta0 = np.load('finallearnedtheta.npz')['learnedtheta']\n",
    "# theta0r = np.concatenate([np.real(theta0.reshape((-1))), np.imag(theta0.reshape((-1)))])\n",
    "\n",
    "# theta0r = np.zeros(2*numparams)\n",
    "# theta0 = theta0r[:numparams] + 1j*theta0r[numparams:]\n",
    "# theta0 = theta0.reshape((2*bigJ+1, 2*bigJ+1, 2))\n",
    "\n",
    "resx = np.load('maiersteinn32J8Nov24.npz')['learnedtheta']\n",
    "theta0 = resx[:numparams] + 1j*resx[numparams:]\n",
    "theta0 = theta0.reshape((2*bigJ+1, 2*bigJ+1, 2))\n",
    "theta0 = symmetrize(theta0)\n",
    "theta0r = resx\n",
    "\n",
    "# resx = np.load('maiersteinn32J8Nov24.npz')['learnedtheta']\n",
    "# oldnumparams = resx.shape[0]//2\n",
    "# theta0 = resx[:oldnumparams] + 1j*resx[oldnumparams:]\n",
    "# theta0 = theta0.reshape((2*8+1, 2*8+1, 2))\n",
    "\n",
    "# theta00 = np.zeros((2*bigJ+1, 2*bigJ+1, 2), dtype=np.complex128)\n",
    "# theta00[bigJ//2:3*bigJ//2+1,bigJ//2:3*bigJ//2+1,:]=theta0\n",
    "# theta00 = symmetrize(theta00)\n",
    "# print(theta00.shape)\n",
    "\n",
    "# theta0r = np.concatenate([np.real(theta00.reshape((-1))), np.imag(theta00.reshape((-1)))])"
   ]
  },
  {
   "cell_type": "code",
   "execution_count": 22,
   "id": "27d88391-a5bf-4663-95ff-7ce246c00685",
   "metadata": {},
   "outputs": [],
   "source": [
    "def mycb(xk, state):\n",
    "    np.savez('maiersteinn32J8Nov26.npz',learnedtheta=xk)"
   ]
  },
  {
   "cell_type": "code",
   "execution_count": 23,
   "id": "f87305fb-1b4f-4648-82f6-160ae2238c19",
   "metadata": {},
   "outputs": [
    {
     "name": "stderr",
     "output_type": "stream",
     "text": [
      "/global/common/software/nersc/pm-2022q3/sw/python/3.9-anaconda-2021.11/lib/python3.9/site-packages/numba/cuda/compiler.py:726: NumbaPerformanceWarning: Grid size (162) < 2 * SM count (216) will likely result in GPU under utilization due to low occupancy.\n",
      "  warn(NumbaPerformanceWarning(msg))\n",
      "/global/common/software/nersc/pm-2022q3/sw/python/3.9-anaconda-2021.11/lib/python3.9/site-packages/numba/cuda/compiler.py:726: NumbaPerformanceWarning: Grid size (64) < 2 * SM count (216) will likely result in GPU under utilization due to low occupancy.\n",
      "  warn(NumbaPerformanceWarning(msg))\n",
      "/global/common/software/nersc/pm-2022q3/sw/python/3.9-anaconda-2021.11/lib/python3.9/site-packages/numba/cuda/compiler.py:726: NumbaPerformanceWarning: Grid size (1) < 2 * SM count (216) will likely result in GPU under utilization due to low occupancy.\n",
      "  warn(NumbaPerformanceWarning(msg))\n",
      "/global/common/software/nersc/pm-2022q3/sw/python/3.9-anaconda-2021.11/lib/python3.9/site-packages/numba/cuda/compiler.py:726: NumbaPerformanceWarning: Grid size (64) < 2 * SM count (216) will likely result in GPU under utilization due to low occupancy.\n",
      "  warn(NumbaPerformanceWarning(msg))\n"
     ]
    },
    {
     "name": "stdout",
     "output_type": "stream",
     "text": [
      "| niter |f evals|CG iter|  obj func   |tr radius |   opt    |  c viol  |\n",
      "|-------|-------|-------|-------------|----------|----------|----------|\n",
      "|   1   |   1   |   0   | +1.4020e+02 | 6.16e-03 | 1.15e+02 | 0.00e+00 |\n"
     ]
    },
    {
     "name": "stderr",
     "output_type": "stream",
     "text": [
      "/global/common/software/nersc/pm-2022q3/sw/python/3.9-anaconda-2021.11/lib/python3.9/site-packages/numba/cuda/compiler.py:726: NumbaPerformanceWarning: Grid size (162) < 2 * SM count (216) will likely result in GPU under utilization due to low occupancy.\n",
      "  warn(NumbaPerformanceWarning(msg))\n"
     ]
    },
    {
     "name": "stdout",
     "output_type": "stream",
     "text": [
      "|   2   |   2   |   1   | +1.3725e+02 | 1.23e-02 | 1.07e+02 | 0.00e+00 |\n",
      "|   3   |   3   |   2   | +1.3180e+02 | 2.46e-02 | 9.39e+01 | 0.00e+00 |\n",
      "|   4   |   4   |   3   | +1.2273e+02 | 4.93e-02 | 7.40e+01 | 0.00e+00 |\n",
      "|   5   |   5   |   4   | +1.1136e+02 | 9.86e-02 | 7.70e+01 | 0.00e+00 |\n",
      "|   6   |   6   |   5   | +1.0581e+02 | 9.86e-02 | 7.56e+01 | 0.00e+00 |\n",
      "|   7   |   7   |   6   | +1.0434e+02 | 9.86e-02 | 7.68e+01 | 0.00e+00 |\n",
      "|   8   |   8   |   7   | +1.0375e+02 | 9.86e-02 | 7.34e+01 | 0.00e+00 |\n",
      "|   9   |   9   |   8   | +1.0287e+02 | 9.86e-02 | 7.27e+01 | 0.00e+00 |\n",
      "|  10   |  10   |   9   | +1.0132e+02 | 9.86e-02 | 6.98e+01 | 0.00e+00 |\n",
      "|  11   |  11   |  10   | +1.0005e+02 | 9.86e-02 | 6.96e+01 | 0.00e+00 |\n",
      "|  12   |  12   |  11   | +9.8876e+01 | 9.86e-02 | 6.96e+01 | 0.00e+00 |\n",
      "|  13   |  13   |  12   | +9.8462e+01 | 9.86e-02 | 6.85e+01 | 0.00e+00 |\n",
      "|  14   |  14   |  13   | +9.8169e+01 | 9.86e-02 | 6.78e+01 | 0.00e+00 |\n",
      "|  15   |  15   |  14   | +9.8169e+01 | 4.93e-02 | 6.78e+01 | 0.00e+00 |\n",
      "|  16   |  16   |  15   | +9.8169e+01 | 2.46e-02 | 6.78e+01 | 0.00e+00 |\n",
      "|  17   |  17   |  16   | +9.8169e+01 | 1.23e-02 | 6.78e+01 | 0.00e+00 |\n",
      "|  18   |  18   |  17   | +9.8169e+01 | 6.16e-03 | 6.78e+01 | 0.00e+00 |\n",
      "|  19   |  19   |  18   | +9.8169e+01 | 3.08e-03 | 6.78e+01 | 0.00e+00 |\n",
      "|  20   |  20   |  19   | +9.8169e+01 | 1.54e-03 | 6.78e+01 | 0.00e+00 |\n",
      "|  21   |  21   |  20   | +9.8169e+01 | 7.70e-04 | 6.78e+01 | 0.00e+00 |\n",
      "\n",
      "`xtol` termination condition is satisfied.\n",
      "Number of iterations: 21, function evaluations: 21, CG iterations: 20, optimality: 6.78e+01, constraint violation: 0.00e+00, execution time: 5.5e+02 s.\n"
     ]
    }
   ],
   "source": [
    "res = scipy.optimize.minimize(fun=objgrad, x0=theta0r, jac=True, method='trust-constr', \n",
    "                              hess=scipy.optimize.SR1(), callback=mycb,\n",
    "                              options={'gtol': 1e-3, 'xtol': 1e-3, 'verbose': 2,\n",
    "                                       'initial_tr_radius': 6.16e-3})"
   ]
  },
  {
   "cell_type": "code",
   "execution_count": 28,
   "id": "e611edf2-da34-4aa0-a87d-fb9368e21b21",
   "metadata": {},
   "outputs": [
    {
     "ename": "NameError",
     "evalue": "name 'res' is not defined",
     "output_type": "error",
     "traceback": [
      "\u001b[0;31m---------------------------------------------------------------------------\u001b[0m",
      "\u001b[0;31mNameError\u001b[0m                                 Traceback (most recent call last)",
      "\u001b[0;32m/tmp/ipykernel_56278/1054498959.py\u001b[0m in \u001b[0;36m<module>\u001b[0;34m\u001b[0m\n\u001b[0;32m----> 1\u001b[0;31m \u001b[0mresx\u001b[0m \u001b[0;34m=\u001b[0m \u001b[0mres\u001b[0m\u001b[0;34m.\u001b[0m\u001b[0mx\u001b[0m\u001b[0;34m\u001b[0m\u001b[0;34m\u001b[0m\u001b[0m\n\u001b[0m\u001b[1;32m      2\u001b[0m \u001b[0mtheta0\u001b[0m \u001b[0;34m=\u001b[0m \u001b[0mresx\u001b[0m\u001b[0;34m[\u001b[0m\u001b[0;34m:\u001b[0m\u001b[0mnumparams\u001b[0m\u001b[0;34m]\u001b[0m \u001b[0;34m+\u001b[0m \u001b[0;36m1j\u001b[0m\u001b[0;34m*\u001b[0m\u001b[0mresx\u001b[0m\u001b[0;34m[\u001b[0m\u001b[0mnumparams\u001b[0m\u001b[0;34m:\u001b[0m\u001b[0;34m]\u001b[0m\u001b[0;34m\u001b[0m\u001b[0;34m\u001b[0m\u001b[0m\n\u001b[1;32m      3\u001b[0m \u001b[0mtheta0\u001b[0m \u001b[0;34m=\u001b[0m \u001b[0mtheta0\u001b[0m\u001b[0;34m.\u001b[0m\u001b[0mreshape\u001b[0m\u001b[0;34m(\u001b[0m\u001b[0;34m(\u001b[0m\u001b[0;36m2\u001b[0m\u001b[0;34m*\u001b[0m\u001b[0mbigJ\u001b[0m\u001b[0;34m+\u001b[0m\u001b[0;36m1\u001b[0m\u001b[0;34m,\u001b[0m \u001b[0;36m2\u001b[0m\u001b[0;34m*\u001b[0m\u001b[0mbigJ\u001b[0m\u001b[0;34m+\u001b[0m\u001b[0;36m1\u001b[0m\u001b[0;34m,\u001b[0m \u001b[0;36m2\u001b[0m\u001b[0;34m)\u001b[0m\u001b[0;34m)\u001b[0m\u001b[0;34m\u001b[0m\u001b[0;34m\u001b[0m\u001b[0m\n\u001b[1;32m      4\u001b[0m \u001b[0mtheta0\u001b[0m \u001b[0;34m=\u001b[0m \u001b[0msymmetrize\u001b[0m\u001b[0;34m(\u001b[0m\u001b[0mtheta0\u001b[0m\u001b[0;34m)\u001b[0m\u001b[0;34m\u001b[0m\u001b[0;34m\u001b[0m\u001b[0m\n",
      "\u001b[0;31mNameError\u001b[0m: name 'res' is not defined"
     ]
    }
   ],
   "source": [
    "resx = res.x\n",
    "theta0 = resx[:numparams] + 1j*resx[numparams:]\n",
    "theta0 = theta0.reshape((2*bigJ+1, 2*bigJ+1, 2))\n",
    "theta0 = symmetrize(theta0)"
   ]
  },
  {
   "cell_type": "code",
   "execution_count": 60,
   "id": "0700f55e-ee7d-40f4-8b1a-379db5f7f231",
   "metadata": {},
   "outputs": [],
   "source": [
    "myfunc = represent(theta0, bigJ)"
   ]
  },
  {
   "cell_type": "code",
   "execution_count": 61,
   "id": "e96860c3-9541-4a88-960c-2d359b28305a",
   "metadata": {},
   "outputs": [
    {
     "data": {
      "image/png": "[encoded data removed]",
      "text/plain": [
       "<Figure size 432x288 with 1 Axes>"
      ]
     },
     "metadata": {
      "needs_background": "light"
     },
     "output_type": "display_data"
    }
   ],
   "source": [
    "plt.contourf(xplot,xplot,np.real(myfunc[0]))\n",
    "plt.show()"
   ]
  },
  {
   "cell_type": "code",
   "execution_count": 62,
   "id": "c3da6a44-994e-4fff-b174-5f38d63e6d38",
   "metadata": {},
   "outputs": [
    {
     "data": {
      "image/png": "[encoded data removed]",
      "text/plain": [
       "<Figure size 432x288 with 1 Axes>"
      ]
     },
     "metadata": {
      "needs_background": "light"
     },
     "output_type": "display_data"
    }
   ],
   "source": [
    "plt.contourf(xplot,xplot,np.real(myfunc[1]))\n",
    "plt.show()"
   ]
  },
  {
   "cell_type": "code",
   "execution_count": 63,
   "id": "bf0c0979-89d7-49c1-8dbb-95bc662f2a57",
   "metadata": {},
   "outputs": [
    {
     "data": {
      "image/png": "[encoded data removed]",
      "text/plain": [
       "<Figure size 432x288 with 1 Axes>"
      ]
     },
     "metadata": {
      "needs_background": "light"
     },
     "output_type": "display_data"
    }
   ],
   "source": [
    "truefunc0 = xp1-xp1**3-xp1*xp2**2\n",
    "truefunc1 = -(1+xp1**2)*xp2\n",
    "\n",
    "plt.contourf(xplot,xplot,truefunc0)\n",
    "plt.show()\n",
    "plt.contourf(xplot,xplot,truefunc1)\n",
    "plt.show()"
   ]
  },
  {
   "cell_type": "code",
   "execution_count": 64,
   "id": "394aef22-604e-4bdf-addb-45c8b53bd7f4",
   "metadata": {},
   "outputs": [],
   "source": [
    "# now construct f on a plotting grid\n",
    "@njit\n",
    "def vectorfield(x, theta, JJ):\n",
    "    f1 = 0.0\n",
    "    f2 = 0.0\n",
    "    modes = np.arange(-JJ,JJ+1)/bigL\n",
    "    for j1 in range(2*JJ+1):\n",
    "        for j2 in range(2*JJ+1):\n",
    "            f1 += theta[j1, j2, 0]*np.exp(1j*(x[0]*modes[j1] + x[1]*modes[j2]))\n",
    "            f2 += theta[j1, j2, 1]*np.exp(1j*(x[0]*modes[j1] + x[1]*modes[j2]))\n",
    "    \n",
    "    return np.array([np.real(f1), np.real(f2)])"
   ]
  },
  {
   "cell_type": "code",
   "execution_count": 65,
   "id": "58234554-80ef-4c66-a41b-8760fb1e8daf",
   "metadata": {},
   "outputs": [],
   "source": [
    "theta0s =  symmetrize(theta0)\n",
    "\n",
    "def learnedvf(t, x):\n",
    "    return vectorfield(x, theta0s, bigJ)\n",
    "\n",
    "# x - x^3 - x y^2, -(1 + x^2)*y\n",
    "def gtvf(t, x):\n",
    "    return np.array([x[0]-x[0]**3-x[0]*x[1]**2, -(1+x[0]**2)*x[1]])"
   ]
  },
  {
   "cell_type": "code",
   "execution_count": 66,
   "id": "1890374f-78f8-42ce-bc10-ff1aee04b46c",
   "metadata": {},
   "outputs": [],
   "source": [
    "# function to produce one ground truth trajectory\n",
    "# y0 : initial condition\n",
    "# tf : final time\n",
    "# npts : number of time points at which to record solution\n",
    "\n",
    "def gttraj(vf, y0, tf, npts):\n",
    "    t_span = np.array([0., tf])\n",
    "    t_eval = np.linspace(0,tf,npts)\n",
    "    # solve ODE numerically\n",
    "    sol = si.solve_ivp(vf, t_span=t_span, y0=y0, t_eval=t_eval, atol=1e-9, rtol=1e-9)\n",
    "    return sol.y"
   ]
  },
  {
   "cell_type": "code",
   "execution_count": 67,
   "id": "e8b3a2fc-1ebf-4463-8fd4-efd49ff56ab5",
   "metadata": {},
   "outputs": [
    {
     "data": {
      "image/png": "[encoded data removed]",
      "text/plain": [
       "<Figure size 720x432 with 1 Axes>"
      ]
     },
     "metadata": {
      "needs_background": "light"
     },
     "output_type": "display_data"
    }
   ],
   "source": [
    "# for a grid of initial conditions, generate trajectories\n",
    "%matplotlib inline\n",
    "plt.figure(figsize=(10,6))\n",
    "\n",
    "xL = 2.0\n",
    "nx = 5\n",
    "xgrid = np.linspace(-xL, xL, nx)\n",
    "ny = 7\n",
    "ygrid = np.linspace(-xL, xL, ny)\n",
    "alltraj = []\n",
    "for i in range(nx):\n",
    "    for j in range(ny):\n",
    "        thistraj = gttraj(gtvf, np.array([xgrid[i], ygrid[j]]), 10.0, 5000)\n",
    "        plt.plot(thistraj[0,:],thistraj[1,:])\n",
    "        alltraj.append(thistraj)\n",
    "\n",
    "plt.xlabel('$x_1(t)$')\n",
    "plt.ylabel('$x_2(t)$')\n",
    "plt.xlim([-np.pi, np.pi])\n",
    "plt.ylim([-2.5,2.5])\n",
    "plt.show()"
   ]
  },
  {
   "cell_type": "code",
   "execution_count": 68,
   "id": "453c959e-1fa2-4fe9-ba9d-fc1368ff7489",
   "metadata": {},
   "outputs": [],
   "source": [
    "# for a grid of initial conditions, generate trajectories\n",
    "# %matplotlib inline\n",
    "matplotlib.use('Agg')\n",
    "font = {'family' : 'serif',\n",
    "        'weight' : 'regular',\n",
    "        'size'   : 20}\n",
    "matplotlib.rc('font', **font)\n",
    "\n",
    "plt.figure(figsize=(8,8))\n",
    "\n",
    "xL = 2.0\n",
    "nx = 15\n",
    "xgrid = np.linspace(-xL, xL, nx)\n",
    "ny = 17\n",
    "ygrid = np.linspace(-xL, xL, ny)\n",
    "alltraj = []\n",
    "for i in range(nx):\n",
    "    for j in range(ny):\n",
    "        thistraj = gttraj(learnedvf, np.array([xgrid[i], ygrid[j]]), 10.0, 5000)\n",
    "        plt.plot(thistraj[0,:],thistraj[1,:])\n",
    "        alltraj.append(thistraj)\n",
    "\n",
    "plt.xticks(ticks=np.array([-1.9,-1.,0.0,1.,1.9]),labels=[\"-1.9\",\"-1\",\"0\",\"1\",\"1.9\"])\n",
    "plt.yticks(ticks=np.array([-1.9,-1.,0.0,1.,1.9]),labels=[\"\",\"\",\"\",\"\",\"\"])\n",
    "plt.xlabel('$x_1(t)$')\n",
    "# plt.gca().yaxis.set_label_coords(-0.1,1.0)\n",
    "# plt.ylabel('$x_2(t)$')\n",
    "plt.xlim([-xL, xL])\n",
    "plt.ylim([-2,2])\n",
    "plt.savefig('MaierSteinLearnedRaw2.pdf')\n",
    "plt.close()"
   ]
  },
  {
   "cell_type": "code",
   "execution_count": 44,
   "id": "938bfd2d-e539-4f8f-8a5a-b6d9ad9712bd",
   "metadata": {},
   "outputs": [],
   "source": [
    "from scipy.stats import levy_stable"
   ]
  },
  {
   "cell_type": "code",
   "execution_count": 45,
   "id": "125934f9-391d-42bb-a347-c6647fbc1d46",
   "metadata": {},
   "outputs": [],
   "source": [
    "# simulate Levy-alpha stable SDE using drift field vf\n",
    "# index \"alpha\" is assumed to be global and defined\n",
    "# diffusion \"g\" is assumed to be global and defined\n",
    "\n",
    "# need to catch overflow\n",
    "def simtraj(vf, x0, dt, nsteps):\n",
    "    sol = np.zeros((nsteps+1,2))\n",
    "    sol[0,:] = x0\n",
    "    sf = g*(dt**(1.0/alpha))\n",
    "    for j in range(nsteps):\n",
    "        drift = vf(0.0, sol[j,:])\n",
    "        diff = levy_stable.rvs(alpha, 0.0, size=1)\n",
    "        sol[j+1,:] = sol[j,:] + dt*drift + diff\n",
    "    \n",
    "    return sol"
   ]
  },
  {
   "cell_type": "code",
   "execution_count": 36,
   "id": "af7d9fa4-f254-4320-8053-045446a33b2f",
   "metadata": {},
   "outputs": [
    {
     "name": "stdout",
     "output_type": "stream",
     "text": [
      "0.045557260513305664\n"
     ]
    }
   ],
   "source": [
    "start = time.time()\n",
    "simtraj(gtvf, np.array([1.0,2.0]), 1e-4, 100)\n",
    "end = time.time()\n",
    "print(end-start)"
   ]
  },
  {
   "cell_type": "code",
   "execution_count": 37,
   "id": "2212bce5-9b9a-49a2-929a-88cc3c6854bb",
   "metadata": {},
   "outputs": [],
   "source": [
    "# for each initial condition, step forward using the true vector field\n",
    "# then compute the MAE on the control points\n",
    "\n",
    "\n",
    "\n",
    "# for each initial condition, step forward using the learned vector field\n",
    "# then compute the MAE on the control points\n",
    "\n",
    "\n"
   ]
  },
  {
   "cell_type": "code",
   "execution_count": 38,
   "id": "9a7746b9-dd76-4cef-b0cb-36aa1aac4328",
   "metadata": {},
   "outputs": [
    {
     "data": {
      "text/plain": [
       "(11, 58, 2)"
      ]
     },
     "execution_count": 38,
     "metadata": {},
     "output_type": "execute_result"
    }
   ],
   "source": [
    "mctraj.shape"
   ]
  },
  {
   "cell_type": "code",
   "execution_count": 69,
   "id": "95beef35-3674-4769-8972-b94a5c4f23eb",
   "metadata": {},
   "outputs": [],
   "source": [
    "# use the saved npz file\n",
    "# perhaps resave it as a CSV\n",
    "# open it in Mathematica\n",
    "# reconstruct the learned vector field\n",
    "# numerically integrate on a random test set\n",
    "# see what the MAE or IQR of error is\n",
    "# compare with same integration of true vector field"
   ]
  },
  {
   "cell_type": "code",
   "execution_count": null,
   "id": "a371563f-8d25-4c22-94cf-900764bf209f",
   "metadata": {},
   "outputs": [],
   "source": []
  }
 ],
 "metadata": {
  "kernelspec": {
   "display_name": "NERSC Python",
   "language": "python",
   "name": "python3"
  },
  "language_info": {
   "codemirror_mode": {
    "name": "ipython",
    "version": 3
   },
   "file_extension": ".py",
   "mimetype": "text/x-python",
   "name": "python",
   "nbconvert_exporter": "python",
   "pygments_lexer": "ipython3",
   "version": "3.9.7"
  }
 },
 "nbformat": 4,
 "nbformat_minor": 5
}
